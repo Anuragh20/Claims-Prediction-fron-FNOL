{
  "nbformat": 4,
  "nbformat_minor": 0,
  "metadata": {
    "colab": {
      "name": "feature_selection_models.ipynb",
      "provenance": [],
      "collapsed_sections": []
    },
    "kernelspec": {
      "display_name": "Python 3",
      "name": "python3"
    },
    "language_info": {
      "name": "python"
    }
  },
  "cells": [
    {
      "cell_type": "code",
      "metadata": {
        "colab": {
          "base_uri": "https://localhost:8080/"
        },
        "id": "_P_WwDRKyk1a",
        "outputId": "e10955bc-2569-48a3-f37a-624110a63cbd"
      },
      "source": [
        "pip install category_encoders"
      ],
      "execution_count": 6,
      "outputs": [
        {
          "output_type": "stream",
          "name": "stdout",
          "text": [
            "Collecting category_encoders\n",
            "  Downloading category_encoders-2.3.0-py2.py3-none-any.whl (82 kB)\n",
            "\u001b[?25l\r\u001b[K     |████                            | 10 kB 24.8 MB/s eta 0:00:01\r\u001b[K     |████████                        | 20 kB 24.1 MB/s eta 0:00:01\r\u001b[K     |████████████                    | 30 kB 20.2 MB/s eta 0:00:01\r\u001b[K     |████████████████                | 40 kB 16.2 MB/s eta 0:00:01\r\u001b[K     |████████████████████            | 51 kB 5.7 MB/s eta 0:00:01\r\u001b[K     |████████████████████████        | 61 kB 6.1 MB/s eta 0:00:01\r\u001b[K     |████████████████████████████    | 71 kB 5.6 MB/s eta 0:00:01\r\u001b[K     |███████████████████████████████▉| 81 kB 6.2 MB/s eta 0:00:01\r\u001b[K     |████████████████████████████████| 82 kB 344 kB/s \n",
            "\u001b[?25hRequirement already satisfied: statsmodels>=0.9.0 in /usr/local/lib/python3.7/dist-packages (from category_encoders) (0.10.2)\n",
            "Requirement already satisfied: patsy>=0.5.1 in /usr/local/lib/python3.7/dist-packages (from category_encoders) (0.5.2)\n",
            "Requirement already satisfied: pandas>=0.21.1 in /usr/local/lib/python3.7/dist-packages (from category_encoders) (1.1.5)\n",
            "Requirement already satisfied: scipy>=1.0.0 in /usr/local/lib/python3.7/dist-packages (from category_encoders) (1.4.1)\n",
            "Requirement already satisfied: scikit-learn>=0.20.0 in /usr/local/lib/python3.7/dist-packages (from category_encoders) (1.0.1)\n",
            "Requirement already satisfied: numpy>=1.14.0 in /usr/local/lib/python3.7/dist-packages (from category_encoders) (1.19.5)\n",
            "Requirement already satisfied: python-dateutil>=2.7.3 in /usr/local/lib/python3.7/dist-packages (from pandas>=0.21.1->category_encoders) (2.8.2)\n",
            "Requirement already satisfied: pytz>=2017.2 in /usr/local/lib/python3.7/dist-packages (from pandas>=0.21.1->category_encoders) (2018.9)\n",
            "Requirement already satisfied: six in /usr/local/lib/python3.7/dist-packages (from patsy>=0.5.1->category_encoders) (1.15.0)\n",
            "Requirement already satisfied: joblib>=0.11 in /usr/local/lib/python3.7/dist-packages (from scikit-learn>=0.20.0->category_encoders) (1.1.0)\n",
            "Requirement already satisfied: threadpoolctl>=2.0.0 in /usr/local/lib/python3.7/dist-packages (from scikit-learn>=0.20.0->category_encoders) (3.0.0)\n",
            "Installing collected packages: category-encoders\n",
            "Successfully installed category-encoders-2.3.0\n"
          ]
        }
      ]
    },
    {
      "cell_type": "code",
      "metadata": {
        "colab": {
          "base_uri": "https://localhost:8080/"
        },
        "id": "A-4m4Zucqaeu",
        "outputId": "7c2f279c-1b00-4f29-aeb2-e49b2d16a3bf"
      },
      "source": [
        "pip install xgboost"
      ],
      "execution_count": 7,
      "outputs": [
        {
          "output_type": "stream",
          "name": "stdout",
          "text": [
            "Requirement already satisfied: xgboost in /usr/local/lib/python3.7/dist-packages (0.90)\n",
            "Requirement already satisfied: numpy in /usr/local/lib/python3.7/dist-packages (from xgboost) (1.19.5)\n",
            "Requirement already satisfied: scipy in /usr/local/lib/python3.7/dist-packages (from xgboost) (1.4.1)\n"
          ]
        }
      ]
    },
    {
      "cell_type": "code",
      "metadata": {
        "id": "amInl-on61J7",
        "colab": {
          "base_uri": "https://localhost:8080/"
        },
        "outputId": "8016169d-d21e-4401-e4b6-ff16ae51717d"
      },
      "source": [
        "import tqdm\n",
        "import pickle\n",
        "import datetime\n",
        "import statistics\n",
        "import pandas as pd\n",
        "import numpy as np\n",
        "import seaborn as sns\n",
        "from sklearn.metrics import r2_score\n",
        "import matplotlib.pyplot as plt\n",
        "from sklearn.metrics import mean_squared_error\n",
        "from sklearn.pipeline import make_pipeline\n",
        "from matplotlib.gridspec import GridSpec\n",
        "from sklearn.compose import ColumnTransformer\n",
        "from sklearn.preprocessing import MinMaxScaler\n",
        "from sklearn.model_selection import GridSearchCV\n",
        "from sklearn.linear_model import LinearRegression\n",
        "from sklearn.model_selection import train_test_split\n",
        "from sklearn.compose import make_column_transformer\n",
        "from category_encoders.target_encoder import TargetEncoder"
      ],
      "execution_count": 8,
      "outputs": [
        {
          "output_type": "stream",
          "name": "stderr",
          "text": [
            "/usr/local/lib/python3.7/dist-packages/statsmodels/tools/_testing.py:19: FutureWarning: pandas.util.testing is deprecated. Use the functions in the public API at pandas.testing instead.\n",
            "  import pandas.util.testing as tm\n"
          ]
        }
      ]
    },
    {
      "cell_type": "code",
      "metadata": {
        "id": "lBISLU3XyeGQ"
      },
      "source": [
        ""
      ],
      "execution_count": null,
      "outputs": []
    },
    {
      "cell_type": "markdown",
      "metadata": {
        "id": "mC9j18Nn7t87"
      },
      "source": [
        "#### Temporal Split of the Train Test Data basis the year of FNOL (Test Data contains data for the years 2014 and 2015)"
      ]
    },
    {
      "cell_type": "code",
      "metadata": {
        "id": "Wj3MUwT3eqtO"
      },
      "source": [
        "with open('/content/drive/MyDrive/Hastings/train_data.pkl','rb') as traindata:\n",
        "    train_data= pickle.load(traindata)\n",
        "with open('/content/drive/MyDrive/Hastings/test_data.pkl','rb') as testdata:\n",
        "    test_data= pickle.load(testdata)"
      ],
      "execution_count": null,
      "outputs": []
    },
    {
      "cell_type": "code",
      "metadata": {
        "colab": {
          "base_uri": "https://localhost:8080/"
        },
        "id": "kya4VitiegwB",
        "outputId": "65292451-9a91-45a7-8e91-962b1b4772b4"
      },
      "source": [
        "train_y= train_data['Incurred']\n",
        "test_y= test_data['Incurred']\n",
        "\n",
        "train_x= train_data.drop(['Incurred'], axis=1)\n",
        "test_x= test_data.drop(['Incurred'], axis=1)\n",
        "\n",
        "print(\"Shape of the Train_X Dataset: \", train_x.shape)\n",
        "print(\"Shape of the Test_X Dataset: \", test_x.shape)\n",
        "print(\"Shape of the Train_y Dataset: \", train_y.shape)\n",
        "print(\"Shape of the Test_y Dataset: \", test_y.shape)"
      ],
      "execution_count": null,
      "outputs": [
        {
          "name": "stdout",
          "output_type": "stream",
          "text": [
            "Shape of the Train_X Dataset:  (5292, 39)\n",
            "Shape of the Test_X Dataset:  (2395, 39)\n",
            "Shape of the Train_y Dataset:  (5292,)\n",
            "Shape of the Test_y Dataset:  (2395,)\n"
          ]
        }
      ]
    },
    {
      "cell_type": "code",
      "metadata": {
        "id": "MIHxYIDeeiws"
      },
      "source": [
        "with open('/content/drive/MyDrive/Hastings/trainx.pkl','wb') as trainx:\n",
        "    pickle.dump(train_x,trainx)\n",
        "with open('/content/drive/MyDrive/Hastings/testx.pkl','wb') as testx:\n",
        "    pickle.dump(test_x,testx)\n",
        "with open('/content/drive/MyDrive/Hastings/trainy.pkl','wb') as trainy:\n",
        "    pickle.dump(train_y,trainy)\n",
        "with open('/content/drive/MyDrive/Hastings/testy.pkl','wb') as testy:\n",
        "    pickle.dump(test_y,testy)"
      ],
      "execution_count": null,
      "outputs": []
    },
    {
      "cell_type": "code",
      "metadata": {
        "id": "CpTL1tPB77XH"
      },
      "source": [
        "with open('/content/drive/MyDrive/Hastings/trainy.pkl','rb') as trainy:\n",
        "    train_y= pickle.load(trainy)\n",
        "with open('/content/drive/MyDrive/Hastings/testy.pkl','rb') as testy:\n",
        "    test_y= pickle.load(testy)"
      ],
      "execution_count": null,
      "outputs": []
    },
    {
      "cell_type": "code",
      "metadata": {
        "colab": {
          "base_uri": "https://localhost:8080/",
          "height": 224
        },
        "id": "d4sZLXjs7I0B",
        "outputId": "390d8428-c614-4693-8246-ed0f62cb991f"
      },
      "source": [
        "train_x.head()"
      ],
      "execution_count": null,
      "outputs": [
        {
          "data": {
            "text/html": [
              "<div>\n",
              "<style scoped>\n",
              "    .dataframe tbody tr th:only-of-type {\n",
              "        vertical-align: middle;\n",
              "    }\n",
              "\n",
              "    .dataframe tbody tr th {\n",
              "        vertical-align: top;\n",
              "    }\n",
              "\n",
              "    .dataframe thead th {\n",
              "        text-align: right;\n",
              "    }\n",
              "</style>\n",
              "<table border=\"1\" class=\"dataframe\">\n",
              "  <thead>\n",
              "    <tr style=\"text-align: right;\">\n",
              "      <th></th>\n",
              "      <th>Notifier</th>\n",
              "      <th>Notification_period</th>\n",
              "      <th>Inception_to_loss</th>\n",
              "      <th>Location_of_incident</th>\n",
              "      <th>Weather_conditions</th>\n",
              "      <th>Vehicle_mobile</th>\n",
              "      <th>Time_hour</th>\n",
              "      <th>Main_driver</th>\n",
              "      <th>PH_considered_TP_at_fault</th>\n",
              "      <th>Incident_details_present</th>\n",
              "      <th>Injury_details_present</th>\n",
              "      <th>TP_type_insd_pass_back</th>\n",
              "      <th>TP_type_driver</th>\n",
              "      <th>TP_type_pass_back</th>\n",
              "      <th>TP_type_pass_front</th>\n",
              "      <th>TP_type_bike</th>\n",
              "      <th>TP_type_other</th>\n",
              "      <th>TP_type_nk</th>\n",
              "      <th>TP_injury_whiplash</th>\n",
              "      <th>TP_injury_traumatic</th>\n",
              "      <th>TP_injury_fatality</th>\n",
              "      <th>TP_injury_unclear</th>\n",
              "      <th>TP_injury_nk</th>\n",
              "      <th>TP_region_eastang</th>\n",
              "      <th>TP_region_eastmid</th>\n",
              "      <th>TP_region_london</th>\n",
              "      <th>TP_region_north</th>\n",
              "      <th>TP_region_northw</th>\n",
              "      <th>TP_region_outerldn</th>\n",
              "      <th>TP_region_scotland</th>\n",
              "      <th>TP_region_southe</th>\n",
              "      <th>TP_region_southw</th>\n",
              "      <th>TP_region_wales</th>\n",
              "      <th>TP_region_westmid</th>\n",
              "      <th>TP_region_yorkshire</th>\n",
              "      <th>year_loss</th>\n",
              "      <th>month_loss</th>\n",
              "      <th>day_loss</th>\n",
              "    </tr>\n",
              "  </thead>\n",
              "  <tbody>\n",
              "    <tr>\n",
              "      <th>0</th>\n",
              "      <td>PH</td>\n",
              "      <td>22</td>\n",
              "      <td>13</td>\n",
              "      <td>Main Road</td>\n",
              "      <td>NORMAL</td>\n",
              "      <td>Y</td>\n",
              "      <td>10</td>\n",
              "      <td>Other</td>\n",
              "      <td>n/k</td>\n",
              "      <td>0</td>\n",
              "      <td>0</td>\n",
              "      <td>0</td>\n",
              "      <td>0</td>\n",
              "      <td>0</td>\n",
              "      <td>0</td>\n",
              "      <td>0</td>\n",
              "      <td>0</td>\n",
              "      <td>1</td>\n",
              "      <td>0</td>\n",
              "      <td>0</td>\n",
              "      <td>0</td>\n",
              "      <td>1</td>\n",
              "      <td>0</td>\n",
              "      <td>0</td>\n",
              "      <td>0</td>\n",
              "      <td>0</td>\n",
              "      <td>0</td>\n",
              "      <td>1</td>\n",
              "      <td>0</td>\n",
              "      <td>0</td>\n",
              "      <td>0</td>\n",
              "      <td>0</td>\n",
              "      <td>0</td>\n",
              "      <td>0</td>\n",
              "      <td>0</td>\n",
              "      <td>2003</td>\n",
              "      <td>4</td>\n",
              "      <td>15</td>\n",
              "    </tr>\n",
              "    <tr>\n",
              "      <th>1</th>\n",
              "      <td>CNF</td>\n",
              "      <td>1</td>\n",
              "      <td>9</td>\n",
              "      <td>Main Road</td>\n",
              "      <td>WET</td>\n",
              "      <td>Y</td>\n",
              "      <td>18</td>\n",
              "      <td>Other</td>\n",
              "      <td>n/k</td>\n",
              "      <td>1</td>\n",
              "      <td>0</td>\n",
              "      <td>0</td>\n",
              "      <td>0</td>\n",
              "      <td>0</td>\n",
              "      <td>0</td>\n",
              "      <td>0</td>\n",
              "      <td>0</td>\n",
              "      <td>1</td>\n",
              "      <td>0</td>\n",
              "      <td>0</td>\n",
              "      <td>0</td>\n",
              "      <td>1</td>\n",
              "      <td>0</td>\n",
              "      <td>0</td>\n",
              "      <td>0</td>\n",
              "      <td>0</td>\n",
              "      <td>0</td>\n",
              "      <td>0</td>\n",
              "      <td>0</td>\n",
              "      <td>0</td>\n",
              "      <td>1</td>\n",
              "      <td>0</td>\n",
              "      <td>0</td>\n",
              "      <td>0</td>\n",
              "      <td>0</td>\n",
              "      <td>2003</td>\n",
              "      <td>4</td>\n",
              "      <td>20</td>\n",
              "    </tr>\n",
              "    <tr>\n",
              "      <th>2</th>\n",
              "      <td>CNF</td>\n",
              "      <td>5</td>\n",
              "      <td>17</td>\n",
              "      <td>Main Road</td>\n",
              "      <td>WET</td>\n",
              "      <td>Y</td>\n",
              "      <td>16</td>\n",
              "      <td>Y</td>\n",
              "      <td>n/k</td>\n",
              "      <td>0</td>\n",
              "      <td>0</td>\n",
              "      <td>0</td>\n",
              "      <td>0</td>\n",
              "      <td>0</td>\n",
              "      <td>0</td>\n",
              "      <td>0</td>\n",
              "      <td>0</td>\n",
              "      <td>1</td>\n",
              "      <td>0</td>\n",
              "      <td>0</td>\n",
              "      <td>0</td>\n",
              "      <td>1</td>\n",
              "      <td>0</td>\n",
              "      <td>0</td>\n",
              "      <td>0</td>\n",
              "      <td>0</td>\n",
              "      <td>0</td>\n",
              "      <td>1</td>\n",
              "      <td>0</td>\n",
              "      <td>0</td>\n",
              "      <td>0</td>\n",
              "      <td>0</td>\n",
              "      <td>0</td>\n",
              "      <td>0</td>\n",
              "      <td>0</td>\n",
              "      <td>2003</td>\n",
              "      <td>4</td>\n",
              "      <td>24</td>\n",
              "    </tr>\n",
              "    <tr>\n",
              "      <th>3</th>\n",
              "      <td>CNF</td>\n",
              "      <td>1</td>\n",
              "      <td>23</td>\n",
              "      <td>Main Road</td>\n",
              "      <td>N/K</td>\n",
              "      <td>Y</td>\n",
              "      <td>14</td>\n",
              "      <td>Other</td>\n",
              "      <td>n/k</td>\n",
              "      <td>1</td>\n",
              "      <td>0</td>\n",
              "      <td>0</td>\n",
              "      <td>0</td>\n",
              "      <td>0</td>\n",
              "      <td>0</td>\n",
              "      <td>0</td>\n",
              "      <td>0</td>\n",
              "      <td>1</td>\n",
              "      <td>0</td>\n",
              "      <td>0</td>\n",
              "      <td>0</td>\n",
              "      <td>1</td>\n",
              "      <td>0</td>\n",
              "      <td>0</td>\n",
              "      <td>0</td>\n",
              "      <td>0</td>\n",
              "      <td>0</td>\n",
              "      <td>0</td>\n",
              "      <td>0</td>\n",
              "      <td>0</td>\n",
              "      <td>0</td>\n",
              "      <td>0</td>\n",
              "      <td>0</td>\n",
              "      <td>1</td>\n",
              "      <td>0</td>\n",
              "      <td>2003</td>\n",
              "      <td>5</td>\n",
              "      <td>13</td>\n",
              "    </tr>\n",
              "    <tr>\n",
              "      <th>4</th>\n",
              "      <td>CNF</td>\n",
              "      <td>1</td>\n",
              "      <td>48</td>\n",
              "      <td>Other</td>\n",
              "      <td>N/K</td>\n",
              "      <td>N</td>\n",
              "      <td>9</td>\n",
              "      <td>Other</td>\n",
              "      <td>n/k</td>\n",
              "      <td>1</td>\n",
              "      <td>0</td>\n",
              "      <td>0</td>\n",
              "      <td>0</td>\n",
              "      <td>0</td>\n",
              "      <td>0</td>\n",
              "      <td>0</td>\n",
              "      <td>0</td>\n",
              "      <td>1</td>\n",
              "      <td>0</td>\n",
              "      <td>0</td>\n",
              "      <td>0</td>\n",
              "      <td>1</td>\n",
              "      <td>1</td>\n",
              "      <td>0</td>\n",
              "      <td>0</td>\n",
              "      <td>0</td>\n",
              "      <td>0</td>\n",
              "      <td>0</td>\n",
              "      <td>0</td>\n",
              "      <td>0</td>\n",
              "      <td>0</td>\n",
              "      <td>0</td>\n",
              "      <td>0</td>\n",
              "      <td>0</td>\n",
              "      <td>0</td>\n",
              "      <td>2003</td>\n",
              "      <td>6</td>\n",
              "      <td>11</td>\n",
              "    </tr>\n",
              "  </tbody>\n",
              "</table>\n",
              "</div>"
            ],
            "text/plain": [
              "  Notifier  Notification_period  ...  month_loss day_loss\n",
              "0       PH                   22  ...           4       15\n",
              "1      CNF                    1  ...           4       20\n",
              "2      CNF                    5  ...           4       24\n",
              "3      CNF                    1  ...           5       13\n",
              "4      CNF                    1  ...           6       11\n",
              "\n",
              "[5 rows x 38 columns]"
            ]
          },
          "execution_count": 5,
          "metadata": {},
          "output_type": "execute_result"
        }
      ]
    },
    {
      "cell_type": "code",
      "metadata": {
        "id": "ym6SZ7jJ7pGp"
      },
      "source": [
        "categorical_columns= ['Notifier','Location_of_incident','Weather_conditions','Vehicle_mobile','Main_driver','PH_considered_TP_at_fault']\n",
        "numerical_columns= set(train_x.columns)-set(categorical_columns)"
      ],
      "execution_count": null,
      "outputs": []
    },
    {
      "cell_type": "code",
      "metadata": {
        "colab": {
          "base_uri": "https://localhost:8080/"
        },
        "id": "0ReLo8K2iuip",
        "outputId": "880ddb53-e9f6-469c-eb92-c3eaff65ab5f"
      },
      "source": [
        "print(len(categorical_columns))\n",
        "print(len(numerical_columns))"
      ],
      "execution_count": null,
      "outputs": [
        {
          "name": "stdout",
          "output_type": "stream",
          "text": [
            "6\n",
            "33\n"
          ]
        }
      ]
    },
    {
      "cell_type": "markdown",
      "metadata": {
        "id": "AzTT185PiyPU"
      },
      "source": [
        "## One-Hot Encoding of Categorical features to convert to numerical features "
      ]
    },
    {
      "cell_type": "code",
      "metadata": {
        "id": "Vb5zCk4tOpPk"
      },
      "source": [
        "train_x= pd.get_dummies(train_x,columns= categorical_columns)\n",
        "test_x= pd.get_dummies(test_x,columns= categorical_columns)"
      ],
      "execution_count": null,
      "outputs": []
    },
    {
      "cell_type": "code",
      "metadata": {
        "id": "Z6_3vVLBOpCz"
      },
      "source": [
        "scaler= MinMaxScaler()\n",
        "train_x_scl=pd.DataFrame(scaler.fit_transform(train_x))\n",
        "train_x_scl.columns= train_x.columns\n",
        "\n",
        "test_x_scl= pd.DataFrame(scaler.transform(test_x))\n",
        "test_x_scl.columns= test_x.columns"
      ],
      "execution_count": null,
      "outputs": []
    },
    {
      "cell_type": "markdown",
      "metadata": {
        "id": "ljc1Z-Z98GIz"
      },
      "source": [
        "# **Model Building - Step 1: Feature Selection**"
      ]
    },
    {
      "cell_type": "markdown",
      "metadata": {
        "id": "UaP-6AOVtPbB"
      },
      "source": [
        "### Baseline Model with One Hot Encoding on Categorical Features"
      ]
    },
    {
      "cell_type": "code",
      "metadata": {
        "colab": {
          "base_uri": "https://localhost:8080/"
        },
        "id": "6t5BeAJ4Oo_b",
        "outputId": "3acdec74-ec51-4166-c493-82a56d43e067"
      },
      "source": [
        "oh_lin_reg= LinearRegression()\n",
        "oh_lin_reg.fit(train_x_scl,train_y)\n",
        "oh_pred_y= oh_lin_reg.predict(train_x_scl)\n",
        "\n",
        "oh_rmse= np.sqrt(mean_squared_error(train_y, oh_pred_y)) \n",
        "oh_mae= mean_absolute_error(train_y,oh_pred_y)\n",
        "oh_r2= r2_score(train_y, oh_pred_y)\n",
        "\n",
        "oh_Adj_r2 = 1 - (1-oh_r2) * (len(train_y)-1)/(len(train_y)-trainx_te.shape[1]-1)\n",
        "\n",
        "print(\"Onehot Train RMSE score: \",oh_rmse)\n",
        "print(\"Onehot Train MAE score: \",oh_mae)\n",
        "print(\"Onehot Train RSquared score: \",oh_r2)\n",
        "print(\"Onehot Train Adj RSquared score: \",oh_Adj_r2)"
      ],
      "execution_count": null,
      "outputs": [
        {
          "name": "stdout",
          "output_type": "stream",
          "text": [
            "Onehot Train RMSE score:  47054.92584512438\n",
            "Onehot Train MAE score:  12019.75037451126\n",
            "Onehot Train RSquared score:  0.2938031099603565\n",
            "Onehot Train Adj RSquared score:  0.28977613662806434\n"
          ]
        }
      ]
    },
    {
      "cell_type": "markdown",
      "metadata": {
        "id": "6LZtRTIGhKmc"
      },
      "source": [
        "## **Feature Selection Techniques**"
      ]
    },
    {
      "cell_type": "markdown",
      "metadata": {
        "id": "p1etIXzlvoNY"
      },
      "source": [
        "### **Feature Selection Technique 1:** Using Mutual Information Gain"
      ]
    },
    {
      "cell_type": "code",
      "metadata": {
        "colab": {
          "base_uri": "https://localhost:8080/"
        },
        "id": "emqweHO7tOOb",
        "outputId": "80fc6df0-9328-4d09-ff58-eed6fdc293b5"
      },
      "source": [
        "from matplotlib import pyplot\n",
        "from sklearn.model_selection import RepeatedKFold\n",
        "from sklearn.feature_selection import SelectKBest\n",
        "from sklearn.feature_selection import mutual_info_regression\n",
        "from sklearn.model_selection import GridSearchCV\n",
        "from sklearn.model_selection import cross_val_score\n",
        "\n",
        "num_features = [i for i in range(train_x_scl.shape[1], train_x_scl.shape[1]+1)]\n",
        "\n",
        "cv = RepeatedKFold(n_splits=10, n_repeats=3, random_state=1)\n",
        "\n",
        "model = LinearRegression()\n",
        "fs = SelectKBest(score_func=mutual_info_regression)\n",
        "pipeline = Pipeline(steps=[('sel',fs), ('lr', model)])\n",
        "\n",
        "grid = dict()\n",
        "grid['sel__k'] = [i for i in range(1, train_x_scl.shape[1]+1)]\n",
        "\n",
        "search = GridSearchCV(pipeline, grid, scoring='neg_mean_absolute_error', n_jobs=-1, cv=cv)\n",
        "\n",
        "results = search.fit(train_x_scl, train_y)\n",
        "\n",
        "print('Best MAE: %.3f' % results.best_score_)\n",
        "print('Best Config: %s' % results.best_params_)"
      ],
      "execution_count": null,
      "outputs": [
        {
          "name": "stdout",
          "output_type": "stream",
          "text": [
            "Best MAE: -10248.061\n",
            "Best Config: {'sel__k': 3}\n"
          ]
        }
      ]
    },
    {
      "cell_type": "code",
      "metadata": {
        "colab": {
          "base_uri": "https://localhost:8080/"
        },
        "id": "wiJBIbfHtOE8",
        "outputId": "2b30ec05-1809-4f6a-9846-610dd9f87939"
      },
      "source": [
        "means = results.cv_results_['mean_test_score']\n",
        "params = results.cv_results_['params']\n",
        "for mean, param in zip(means, params):\n",
        "    print(\">%.3f with: %r\" % (mean, param))"
      ],
      "execution_count": null,
      "outputs": [
        {
          "name": "stdout",
          "output_type": "stream",
          "text": [
            ">-10248.721 with: {'sel__k': 1}\n",
            ">-10254.796 with: {'sel__k': 2}\n",
            ">-10248.061 with: {'sel__k': 3}\n",
            ">-10345.878 with: {'sel__k': 4}\n",
            ">-10540.639 with: {'sel__k': 5}\n",
            ">-10708.921 with: {'sel__k': 6}\n",
            ">-10797.178 with: {'sel__k': 7}\n",
            ">-10942.958 with: {'sel__k': 8}\n",
            ">-11071.929 with: {'sel__k': 9}\n",
            ">-11078.440 with: {'sel__k': 10}\n",
            ">-11173.015 with: {'sel__k': 11}\n",
            ">-11222.335 with: {'sel__k': 12}\n",
            ">-11256.085 with: {'sel__k': 13}\n",
            ">-11289.977 with: {'sel__k': 14}\n",
            ">-11283.334 with: {'sel__k': 15}\n",
            ">-11390.386 with: {'sel__k': 16}\n",
            ">-11405.326 with: {'sel__k': 17}\n",
            ">-11469.974 with: {'sel__k': 18}\n",
            ">-11427.335 with: {'sel__k': 19}\n",
            ">-11531.252 with: {'sel__k': 20}\n",
            ">-11489.333 with: {'sel__k': 21}\n",
            ">-11573.972 with: {'sel__k': 22}\n",
            ">-11634.288 with: {'sel__k': 23}\n",
            ">-11634.533 with: {'sel__k': 24}\n",
            ">-11644.369 with: {'sel__k': 25}\n",
            ">-11648.053 with: {'sel__k': 26}\n",
            ">-11676.209 with: {'sel__k': 27}\n",
            ">-11676.094 with: {'sel__k': 28}\n",
            ">-11691.996 with: {'sel__k': 29}\n",
            ">-11729.376 with: {'sel__k': 30}\n",
            ">-11764.383 with: {'sel__k': 31}\n",
            ">-11797.991 with: {'sel__k': 32}\n",
            ">-11810.077 with: {'sel__k': 33}\n",
            ">-11776.196 with: {'sel__k': 34}\n",
            ">-11878.150 with: {'sel__k': 35}\n",
            ">-11846.386 with: {'sel__k': 36}\n",
            ">-11935.430 with: {'sel__k': 37}\n",
            ">-11978.596 with: {'sel__k': 38}\n",
            ">-11972.857 with: {'sel__k': 39}\n",
            ">-12137.587 with: {'sel__k': 40}\n",
            ">-12115.830 with: {'sel__k': 41}\n",
            ">-12161.464 with: {'sel__k': 42}\n",
            ">-12164.131 with: {'sel__k': 43}\n",
            ">-12222.720 with: {'sel__k': 44}\n",
            ">-12196.441 with: {'sel__k': 45}\n",
            ">-12196.007 with: {'sel__k': 46}\n",
            ">-12211.210 with: {'sel__k': 47}\n"
          ]
        }
      ]
    },
    {
      "cell_type": "markdown",
      "metadata": {
        "id": "m2PrFoDfUCgg"
      },
      "source": [
        "### Feature Selection using SelectKBest Model"
      ]
    },
    {
      "cell_type": "code",
      "metadata": {
        "id": "W0ckoPVjtN_i"
      },
      "source": [
        "fs = SelectKBest(score_func=mutual_info_regression, k=30)\n",
        "\n",
        "fs.fit(train_x_scl,train_y)\n",
        "train_x_mir = fs.transform(train_x_scl)\n",
        "test_x_mir = fs.transform(test_x_scl)"
      ],
      "execution_count": null,
      "outputs": []
    },
    {
      "cell_type": "code",
      "metadata": {
        "colab": {
          "base_uri": "https://localhost:8080/"
        },
        "id": "9gnVn2LJtN8t",
        "outputId": "c2e7c4ab-f978-4711-aa5e-c3336d0502e5"
      },
      "source": [
        "mir_lin_reg= LinearRegression()\n",
        "mir_lin_reg.fit(train_x_mir,train_y)\n",
        "mir_pred_y= mir_lin_reg.predict(train_x_mir)\n",
        "\n",
        "mir_rmse= np.sqrt(mean_squared_error(train_y, mir_pred_y)) \n",
        "mir_mae= mean_absolute_error(train_y,mir_pred_y)\n",
        "mir_r2= r2_score(train_y, mir_pred_y)\n",
        "\n",
        "mir_Adj_r2 = 1 - (1-oh_r2) * (len(train_y)-1)/(len(train_y)-train_x_mir.shape[1]-1)\n",
        "\n",
        "print(\"SelectKBest Train RMSE score: \",mir_rmse)\n",
        "print(\"SelectKBest Train MAE score: \",mir_mae)\n",
        "print(\"SelectKBest Train RSquared score: \",mir_r2)\n",
        "print(\"SelectKBest Train Adj RSquared score: \",mir_Adj_r2)"
      ],
      "execution_count": null,
      "outputs": [
        {
          "name": "stdout",
          "output_type": "stream",
          "text": [
            "SelectKBest Train RMSE score:  48122.000619389866\n",
            "SelectKBest Train MAE score:  11364.174497739543\n",
            "SelectKBest Train RSquared score:  0.26141078330586365\n",
            "SelectKBest Train Adj RSquared score:  0.264326192933089\n"
          ]
        }
      ]
    },
    {
      "cell_type": "markdown",
      "metadata": {
        "id": "wVm0qQiPUJZ3"
      },
      "source": [
        "### **Feature Selection technique 2:** Using Recursive Feature Elimination method"
      ]
    },
    {
      "cell_type": "code",
      "metadata": {
        "colab": {
          "base_uri": "https://localhost:8080/"
        },
        "id": "M9uhao_2tN0F",
        "outputId": "909ef808-a30a-4c34-b913-c6159067a580"
      },
      "source": [
        "from sklearn import linear_model\n",
        "from sklearn.feature_selection import RFECV\n",
        "\n",
        "model = linear_model.LinearRegression()\n",
        "\n",
        "rfe = RFECV(estimator=model, step=5, cv=5)\n",
        "\n",
        "rfe_fit = rfe.fit(train_x_scl,train_y)\n",
        "\n",
        "rfe_dict = dict(zip(np.array(train_x_scl.columns),rfe_fit.ranking_))\n",
        "\n",
        "f_values= len(np.unique(list(rfe_dict.values())))\n",
        "\n",
        "results=[]\n",
        "mean_scores=[]\n",
        "feat_list=[]\n",
        "\n",
        "for val in range(1,int(f_values/2)+1):\n",
        "    selected = {}\n",
        "    for key, value in rfe_dict.items():\n",
        "        if value<=val:\n",
        "            selected[key]=value\n",
        "    features= list(selected.keys())\n",
        "    cv = RepeatedKFold(n_splits=5, n_repeats=2, random_state=1)\n",
        "    scores = cross_val_score(model, train_x_scl[features], train_y, scoring='neg_mean_absolute_error', cv=cv, n_jobs=-1)\n",
        "    results.append(scores)\n",
        "    mean_scores.append(scores.mean())\n",
        "    feat_list.append(features)\n"
      ],
      "execution_count": null,
      "outputs": [
        {
          "name": "stderr",
          "output_type": "stream",
          "text": [
            "/usr/local/lib/python3.7/dist-packages/sklearn/base.py:446: UserWarning: X does not have valid feature names, but RFECV was fitted with feature names\n",
            "  \"X does not have valid feature names, but\"\n"
          ]
        }
      ]
    },
    {
      "cell_type": "code",
      "metadata": {
        "id": "n-jlzxGUtNvN"
      },
      "source": [
        "for key, value in rfe_dict.items():\n",
        "    if value==1:\n",
        "        selected[key]=value\n",
        "    features= list(selected.keys())"
      ],
      "execution_count": null,
      "outputs": []
    },
    {
      "cell_type": "code",
      "metadata": {
        "colab": {
          "base_uri": "https://localhost:8080/"
        },
        "id": "30i6m3gQUtId",
        "outputId": "052d1f6a-6ac4-4c53-943f-bf2c295c26d8"
      },
      "source": [
        "print(\"RFE Features: \",features)"
      ],
      "execution_count": null,
      "outputs": [
        {
          "name": "stdout",
          "output_type": "stream",
          "text": [
            "RFE Features:  ['TP_type_insd_pass_back', 'TP_type_driver', 'TP_type_pass_back', 'TP_type_pass_front', 'TP_type_bike', 'TP_type_other', 'TP_injury_traumatic', 'TP_injury_fatality', 'TP_region_eastang', 'TP_region_london', 'TP_region_northw', 'TP_region_outerldn', 'TP_region_scotland', 'TP_region_southe', 'TP_region_southw', 'TP_region_wales', 'TP_region_westmid', 'TP_region_yorkshire', 'Capped Incurred', 'month_loss', 'Location_of_incident_Not Applicable', 'Location_of_incident_n/k']\n"
          ]
        }
      ]
    },
    {
      "cell_type": "code",
      "metadata": {
        "colab": {
          "base_uri": "https://localhost:8080/"
        },
        "id": "7VsxjWlTtNr9",
        "outputId": "bf77e781-1971-4608-faa7-6ae18917ec01"
      },
      "source": [
        "rfe_lin_reg= LinearRegression()\n",
        "rfe_lin_reg.fit(train_x_scl[features],train_y)\n",
        "rfe_pred_y= rfe_lin_reg.predict(train_x_scl[features])\n",
        "\n",
        "rfe_rmse= np.sqrt(mean_squared_error(train_y, rfe_pred_y)) \n",
        "rfe_mae= mean_absolute_error(train_y,rfe_pred_y)\n",
        "rfe_r2= r2_score(train_y, rfe_pred_y)\n",
        "\n",
        "rfe_Adj_r2 = 1 - (1-rfe_r2) * (len(train_y)-1)/(len(train_y)-len(features)-1)\n",
        "\n",
        "print(\"RFE Train RMSE score: \",rfe_rmse)\n",
        "print(\"RFE Train MAE score: \",rfe_mae)\n",
        "print(\"RFE Train RSquared score: \",rfe_r2)\n",
        "print(\"RFE Train Adj RSquared score: \",rfe_Adj_r2)"
      ],
      "execution_count": null,
      "outputs": [
        {
          "name": "stdout",
          "output_type": "stream",
          "text": [
            "RFE Train RMSE score:  47978.0852925659\n",
            "RFE Train MAE score:  11553.29890538614\n",
            "RFE Train RSquared score:  0.26582187858109096\n",
            "RFE Train Adj RSquared score:  0.26275641669625205\n"
          ]
        }
      ]
    },
    {
      "cell_type": "code",
      "metadata": {
        "id": "dpR0lanhtNFd"
      },
      "source": [
        ""
      ],
      "execution_count": null,
      "outputs": []
    },
    {
      "cell_type": "markdown",
      "metadata": {
        "id": "qs1zbM_2U3wY"
      },
      "source": [
        "### **Feature Selection Technique 3:** Using Lasso Regression model co-efficients"
      ]
    },
    {
      "cell_type": "code",
      "metadata": {
        "id": "2C0tS06YOovC"
      },
      "source": [
        "from sklearn.linear_model import Lasso\n",
        "from sklearn.preprocessing import StandardScaler\n",
        "from sklearn.feature_selection import SelectFromModel\n",
        "from sklearn.pipeline import Pipeline\n",
        "from sklearn.model_selection import RandomizedSearchCV\n",
        "\n",
        "pipeline = Pipeline([('model',Lasso())])\n",
        "\n",
        "lassocv = RandomizedSearchCV(pipeline,\n",
        "                      {'model__alpha':np.arange(0.1,100,0.2)},\n",
        "                      cv = 5, scoring=\"neg_mean_absolute_error\"\n",
        "                      )\n",
        "\n",
        "lassocv.fit(train_x_scl,train_y)\n",
        "\n",
        "coefs = pd.DataFrame({'variable':train_x_scl.columns,'coef':lassocv.best_estimator_.named_steps['model'].coef_,'abs_coef':np.abs(lassocv.best_estimator_.named_steps['model'].coef_)})\n",
        "\n",
        "coefs.sort_values('abs_coef', inplace=True, ascending=False)"
      ],
      "execution_count": null,
      "outputs": []
    },
    {
      "cell_type": "code",
      "metadata": {
        "id": "r14sHpALhQjy"
      },
      "source": [
        "lasso_features= list(coefs[coefs['abs_coef']>0]['variable'])"
      ],
      "execution_count": null,
      "outputs": []
    },
    {
      "cell_type": "code",
      "metadata": {
        "colab": {
          "base_uri": "https://localhost:8080/"
        },
        "id": "GdLV-w7wU_TF",
        "outputId": "d378d657-f263-45b5-e9c6-570a195e5b11"
      },
      "source": [
        "print(\"Best Lasso Features: \", lasso_features)"
      ],
      "execution_count": null,
      "outputs": [
        {
          "name": "stdout",
          "output_type": "stream",
          "text": [
            "Best Lasso Features:  ['Capped Incurred', 'TP_injury_fatality', 'TP_injury_traumatic', 'TP_type_other', 'Location_of_incident_Not Applicable', 'TP_type_pass_front', 'TP_region_northw', 'month_loss', 'TP_region_southe', 'Notifier_TP', 'Injury_details_present', 'Vehicle_mobile_N', 'TP_type_driver', 'day_loss', 'Weather_conditions_NORMAL', 'Location_of_incident_Main Road', 'Location_of_incident_n/k', 'Notifier_Other', 'Inception_to_loss', 'Weather_conditions_N/K', 'Incident_details_present']\n"
          ]
        }
      ]
    },
    {
      "cell_type": "code",
      "metadata": {
        "colab": {
          "base_uri": "https://localhost:8080/"
        },
        "id": "FgDzgu7oliqB",
        "outputId": "c44eb2af-c026-43ab-ff02-dfa8ef3b28fe"
      },
      "source": [
        "laso_lin_reg= LinearRegression()\n",
        "laso_lin_reg.fit(train_x_scl[lasso_features],train_y)\n",
        "laso_pred_y= laso_lin_reg.predict(train_x_scl[lasso_features])\n",
        "\n",
        "laso_rmse= np.sqrt(mean_squared_error(train_y, laso_pred_y)) \n",
        "laso_mae= mean_absolute_error(train_y,laso_pred_y)\n",
        "laso_r2= r2_score(train_y, laso_pred_y)\n",
        "\n",
        "laso_Adj_r2 = 1 - (1-laso_r2) * (len(train_y)-1)/(len(train_y)-len(lasso_features)-1)\n",
        "\n",
        "print(\"Lasso Train RMSE score: \",laso_rmse)\n",
        "print(\"Lasso Train MAE score: \",laso_mae)\n",
        "print(\"Lasso Train RSquared score: \",laso_r2)\n",
        "print(\"Lasso Train Adj RSquared score: \",laso_Adj_r2)"
      ],
      "execution_count": null,
      "outputs": [
        {
          "name": "stdout",
          "output_type": "stream",
          "text": [
            "Lasso Train RMSE score:  48037.532243543916\n",
            "Lasso Train MAE score:  11539.895560363933\n",
            "Lasso Train RSquared score:  0.2640013936932656\n",
            "Lasso Train Adj RSquared score:  0.26106857192240385\n"
          ]
        }
      ]
    },
    {
      "cell_type": "code",
      "metadata": {
        "id": "UoDzSE-IVJjT"
      },
      "source": [
        ""
      ],
      "execution_count": null,
      "outputs": []
    },
    {
      "cell_type": "markdown",
      "metadata": {
        "id": "PKWJ97wShCYr"
      },
      "source": [
        "## **HyperParameter Tuning and Model Selection using Nested Cross Validation**\n",
        "\n",
        "### Carried out 2 experiments wherein features selected through 2 different feature selection techniques have been used and various regression models were eavluated in both the experiments."
      ]
    },
    {
      "cell_type": "markdown",
      "metadata": {
        "id": "WmrGzxShhw-m"
      },
      "source": [
        "## **Experiment 1:** Using the Features Extracted from Recursive Feature Elimination "
      ]
    },
    {
      "cell_type": "code",
      "metadata": {
        "id": "0cedahNr6uju"
      },
      "source": [
        "features=['TP_type_insd_pass_back', 'TP_type_driver', 'TP_type_pass_back', 'TP_type_pass_front', 'TP_type_bike', 'TP_type_other', 'TP_injury_traumatic', 'TP_injury_fatality', 'TP_region_eastang', 'TP_region_london', 'TP_region_northw', 'TP_region_outerldn', 'TP_region_scotland', 'TP_region_southe', 'TP_region_southw', 'TP_region_wales', 'TP_region_westmid', 'TP_region_yorkshire', 'Capped Incurred', 'month_loss', 'Location_of_incident_Not Applicable', 'Location_of_incident_n/k']"
      ],
      "execution_count": null,
      "outputs": []
    },
    {
      "cell_type": "code",
      "metadata": {
        "id": "AzeihtRSVJaI"
      },
      "source": [
        "rfe_features= features\n",
        "trainx_exp1= train_x_scl[rfe_features]\n",
        "testx_exp1= test_x_scl[rfe_features]"
      ],
      "execution_count": null,
      "outputs": []
    },
    {
      "cell_type": "code",
      "metadata": {
        "id": "nUu0Hbd6yNLz"
      },
      "source": [
        "with open('/content/drive/MyDrive/Hastings/trainx_exp1.pkl','wb') as tr_exp1:\n",
        "    pickle.dump(trainx_exp1,tr_exp1)\n",
        "with open('/content/drive/MyDrive/Hastings/testx_exp1.pkl','wb') as te_exp1:\n",
        "    pickle.dump(testx_exp1,te_exp1)"
      ],
      "execution_count": null,
      "outputs": []
    },
    {
      "cell_type": "code",
      "metadata": {
        "id": "9p9X2PZ661pQ"
      },
      "source": [
        "with open('/content/drive/MyDrive/Hastings/trainx_exp1.pkl','rb') as tr_exp1:\n",
        "    trainx_exp1= pickle.load(tr_exp1)\n",
        "with open('/content/drive/MyDrive/Hastings/testx_exp1.pkl','rb') as te_exp1:\n",
        "    testx_exp1= pickle.load(te_exp1)"
      ],
      "execution_count": null,
      "outputs": []
    },
    {
      "cell_type": "code",
      "metadata": {
        "id": "FdALYT-6eFTN"
      },
      "source": [
        "from sklearn.svm import SVR\n",
        "import xgboost as xgb\n",
        "from sklearn.model_selection import GridSearchCV\n",
        "from sklearn.model_selection import KFold\n",
        "from sklearn.model_selection import cross_val_score\n",
        "from sklearn.pipeline import Pipeline\n",
        "from sklearn.linear_model import LinearRegression\n",
        "from sklearn.neighbors import KNeighborsRegressor\n",
        "from sklearn.ensemble import RandomForestRegressor\n",
        "from sklearn.metrics import mean_absolute_error\n",
        "\n",
        "# Initializing Classifiers\n",
        "reg1 = KNeighborsRegressor()\n",
        "reg2 = RandomForestRegressor()\n",
        "reg3 = xgb.XGBRegressor()\n",
        "\n",
        "# Setting up the parameter grids\n",
        "param_grid1 = [{'algorithm': ['ball_tree'],'leaf_size': [50], 'n_neighbors': [1,13,25,35,55,75,91,101],'p': [1, 2]}]\n",
        "\n",
        "param_grid2 = [{'n_estimators': [1,10,100,300,700,1000,5000],\n",
        "                'max_depth': list(np.arange(5, 50))}]\n",
        "\n",
        "param_grid3 = [{'n_estimators': [1,10,100,300,700,1000,5000],\n",
        "                'max_depth': list(np.arange(1, 10))}]"
      ],
      "execution_count": null,
      "outputs": []
    },
    {
      "cell_type": "code",
      "metadata": {
        "id": "6ygF0G1WeFO0"
      },
      "source": [
        "gridcvs = {}\n",
        "inner_cv = KFold(n_splits=2, shuffle=True, random_state=1)\n",
        "\n",
        "for pgrid, est, name in zip((param_grid1, param_grid2, param_grid3),\n",
        "                            (reg1, reg2, reg3),\n",
        "                            ('KNN','RF','XGB')):\n",
        "    gcv = GridSearchCV(estimator=est,\n",
        "                       param_grid=pgrid,\n",
        "                       scoring='neg_mean_absolute_error',\n",
        "                       n_jobs=-1,\n",
        "                       cv=inner_cv,\n",
        "                       verbose=0,\n",
        "                       refit=True)\n",
        "    gridcvs[name] = gcv"
      ],
      "execution_count": null,
      "outputs": []
    },
    {
      "cell_type": "code",
      "metadata": {
        "colab": {
          "background_save": true,
          "base_uri": "https://localhost:8080/"
        },
        "id": "-iDJKBO6rQN5",
        "outputId": "11daeea7-e27a-4aec-dacc-672e0c1037da"
      },
      "source": [
        "MAE_dict=[]\n",
        "for name, gs_est in sorted(gridcvs.items()):\n",
        "\n",
        "    print(50 * '-', '\\n')\n",
        "    print('Algorithm:', name)\n",
        "    print('    Inner loop:')\n",
        "    \n",
        "    outer_scores = []\n",
        "    outer_cv = KFold(n_splits=5, shuffle=True, random_state=1)\n",
        "    \n",
        "    for train_idx, valid_idx in outer_cv.split(trainx_exp1, train_y):\n",
        "        \n",
        "        gridcvs[name].fit(trainx_exp1.iloc[train_idx,:], train_y.iloc[train_idx]) \n",
        "        print('\\n        Best MAE (avg. of inner test folds)', (gridcvs[name].best_score_))\n",
        "        print('        Best parameters:', gridcvs[name].best_params_)\n",
        "        \n",
        "        in_best_reg= gridcvs[name].best_estimator_\n",
        "        in_pred= in_best_reg.predict(trainx_exp1.iloc[valid_idx,:])\n",
        "        \n",
        "        outer_scores.append((-1*mean_absolute_error(train_y[valid_idx],in_pred)))\n",
        "    \n",
        "    m_dict= {name:outer_scores}\n",
        "    MAE_dict.append(m_dict)\n",
        "    print('\\n    Outer Loop:')\n",
        "    print('MAE Values for all the outer loops: ',outer_scores)\n",
        "    print('Mean MAE of all MAE in outer loops: ',np.mean(outer_scores))"
      ],
      "execution_count": null,
      "outputs": [
        {
          "name": "stdout",
          "output_type": "stream",
          "text": [
            "-------------------------------------------------- \n",
            "\n",
            "Algorithm: KNN\n",
            "    Inner loop:\n",
            "\n",
            "        Best MAE (avg. of inner test folds) -5298.387800047532\n",
            "        Best parameters: {'algorithm': 'ball_tree', 'leaf_size': 50, 'n_neighbors': 13, 'p': 1}\n",
            "\n",
            "        Best MAE (avg. of inner test folds) -5115.843979136487\n",
            "        Best parameters: {'algorithm': 'ball_tree', 'leaf_size': 50, 'n_neighbors': 13, 'p': 1}\n",
            "\n",
            "        Best MAE (avg. of inner test folds) -5190.201759953781\n",
            "        Best parameters: {'algorithm': 'ball_tree', 'leaf_size': 50, 'n_neighbors': 13, 'p': 1}\n",
            "\n",
            "        Best MAE (avg. of inner test folds) -6120.265345786214\n",
            "        Best parameters: {'algorithm': 'ball_tree', 'leaf_size': 50, 'n_neighbors': 13, 'p': 1}\n",
            "\n",
            "        Best MAE (avg. of inner test folds) -5589.070957124321\n",
            "        Best parameters: {'algorithm': 'ball_tree', 'leaf_size': 50, 'n_neighbors': 13, 'p': 1}\n",
            "\n",
            "    Outer Loop:\n",
            "MAE Values for all the outer loops:  [-5655.532383782902, -6138.425223386939, -6161.37608800826, -3497.597118733518, -5039.231303147302]\n",
            "Mean MAE of all MAE in outer loops:  -5298.432423411784\n",
            "-------------------------------------------------- \n",
            "\n",
            "Algorithm: RF\n",
            "    Inner loop:\n"
          ]
        },
        {
          "name": "stderr",
          "output_type": "stream",
          "text": [
            "/usr/local/lib/python3.7/dist-packages/joblib/externals/loky/process_executor.py:705: UserWarning: A worker stopped while some jobs were given to the executor. This can be caused by a too short worker timeout or by a memory leak.\n",
            "  \"timeout or by a memory leak.\", UserWarning\n"
          ]
        },
        {
          "name": "stdout",
          "output_type": "stream",
          "text": [
            "\n",
            "        Best MAE (avg. of inner test folds) -4012.36359116664\n",
            "        Best parameters: {'max_depth': 23, 'n_estimators': 1}\n"
          ]
        },
        {
          "name": "stderr",
          "output_type": "stream",
          "text": [
            "/usr/local/lib/python3.7/dist-packages/joblib/externals/loky/process_executor.py:705: UserWarning: A worker stopped while some jobs were given to the executor. This can be caused by a too short worker timeout or by a memory leak.\n",
            "  \"timeout or by a memory leak.\", UserWarning\n"
          ]
        },
        {
          "name": "stdout",
          "output_type": "stream",
          "text": [
            "\n",
            "        Best MAE (avg. of inner test folds) -3474.9384946534137\n",
            "        Best parameters: {'max_depth': 21, 'n_estimators': 1}\n"
          ]
        },
        {
          "name": "stderr",
          "output_type": "stream",
          "text": [
            "/usr/local/lib/python3.7/dist-packages/joblib/externals/loky/process_executor.py:705: UserWarning: A worker stopped while some jobs were given to the executor. This can be caused by a too short worker timeout or by a memory leak.\n",
            "  \"timeout or by a memory leak.\", UserWarning\n"
          ]
        },
        {
          "name": "stdout",
          "output_type": "stream",
          "text": [
            "\n",
            "        Best MAE (avg. of inner test folds) -3558.792201986207\n",
            "        Best parameters: {'max_depth': 49, 'n_estimators': 1}\n"
          ]
        },
        {
          "name": "stderr",
          "output_type": "stream",
          "text": [
            "/usr/local/lib/python3.7/dist-packages/joblib/externals/loky/process_executor.py:705: UserWarning: A worker stopped while some jobs were given to the executor. This can be caused by a too short worker timeout or by a memory leak.\n",
            "  \"timeout or by a memory leak.\", UserWarning\n"
          ]
        },
        {
          "name": "stdout",
          "output_type": "stream",
          "text": [
            "\n",
            "        Best MAE (avg. of inner test folds) -4403.800943138687\n",
            "        Best parameters: {'max_depth': 41, 'n_estimators': 1}\n"
          ]
        },
        {
          "name": "stderr",
          "output_type": "stream",
          "text": [
            "/usr/local/lib/python3.7/dist-packages/joblib/externals/loky/process_executor.py:705: UserWarning: A worker stopped while some jobs were given to the executor. This can be caused by a too short worker timeout or by a memory leak.\n",
            "  \"timeout or by a memory leak.\", UserWarning\n"
          ]
        },
        {
          "name": "stdout",
          "output_type": "stream",
          "text": [
            "\n",
            "        Best MAE (avg. of inner test folds) -3696.9677154619644\n",
            "        Best parameters: {'max_depth': 9, 'n_estimators': 1}\n",
            "\n",
            "    Outer Loop:\n",
            "MAE Values for all the outer loops:  [-4712.6762068985845, -5697.670697486686, -4782.590168323126, -3119.29396630019, -2815.7007433527274]\n",
            "Mean MAE of all MAE in outer loops:  -4225.586356472263\n",
            "-------------------------------------------------- \n",
            "\n",
            "Algorithm: XGB\n",
            "    Inner loop:\n"
          ]
        },
        {
          "name": "stderr",
          "output_type": "stream",
          "text": [
            "/usr/local/lib/python3.7/dist-packages/joblib/externals/loky/process_executor.py:705: UserWarning: A worker stopped while some jobs were given to the executor. This can be caused by a too short worker timeout or by a memory leak.\n",
            "  \"timeout or by a memory leak.\", UserWarning\n"
          ]
        },
        {
          "name": "stdout",
          "output_type": "stream",
          "text": [
            "[18:35:46] WARNING: /workspace/src/objective/regression_obj.cu:152: reg:linear is now deprecated in favor of reg:squarederror.\n",
            "\n",
            "        Best MAE (avg. of inner test folds) -4638.53955870936\n",
            "        Best parameters: {'max_depth': 9, 'n_estimators': 100}\n",
            "[18:39:41] WARNING: /workspace/src/objective/regression_obj.cu:152: reg:linear is now deprecated in favor of reg:squarederror.\n",
            "\n",
            "        Best MAE (avg. of inner test folds) -3617.186863735134\n",
            "        Best parameters: {'max_depth': 8, 'n_estimators': 100}\n",
            "[18:43:35] WARNING: /workspace/src/objective/regression_obj.cu:152: reg:linear is now deprecated in favor of reg:squarederror.\n",
            "\n",
            "        Best MAE (avg. of inner test folds) -5439.2570947319655\n",
            "        Best parameters: {'max_depth': 3, 'n_estimators': 100}\n",
            "[18:47:32] WARNING: /workspace/src/objective/regression_obj.cu:152: reg:linear is now deprecated in favor of reg:squarederror.\n",
            "\n",
            "        Best MAE (avg. of inner test folds) -6232.171334155448\n",
            "        Best parameters: {'max_depth': 4, 'n_estimators': 100}\n",
            "[18:51:29] WARNING: /workspace/src/objective/regression_obj.cu:152: reg:linear is now deprecated in favor of reg:squarederror.\n",
            "\n",
            "        Best MAE (avg. of inner test folds) -5116.672077142145\n",
            "        Best parameters: {'max_depth': 5, 'n_estimators': 100}\n",
            "\n",
            "    Outer Loop:\n",
            "MAE Values for all the outer loops:  [-6389.5619552954, -5928.286152777316, -7317.182373782321, -3132.53908585313, -4153.99652149466]\n",
            "Mean MAE of all MAE in outer loops:  -5384.313217840566\n"
          ]
        }
      ]
    },
    {
      "cell_type": "code",
      "metadata": {
        "colab": {
          "base_uri": "https://localhost:8080/",
          "height": 204
        },
        "id": "zblUqFmaPVUL",
        "outputId": "47d70213-718c-4298-87e1-45c6523152f8"
      },
      "source": [
        "exp1_dict= {'knn_mae':[5655.532383782902, 6138.425223386939, 6161.37608800826, 3497.597118733518, 5039.231303147302],\n",
        "            'rf_mae': [4712.6762068985845, 5697.670697486686, 4782.590168323126, 3119.29396630019, 2815.7007433527274],\n",
        "            'xgb_mae':[6389.5619552954, 5928.286152777316, 7317.182373782321, 3132.53908585313, 4153.99652149466]}\n",
        "\n",
        "exp1_results_df= pd.DataFrame(exp1_dict)\n",
        "exp1_results_df"
      ],
      "execution_count": 9,
      "outputs": [
        {
          "output_type": "execute_result",
          "data": {
            "text/html": [
              "<div>\n",
              "<style scoped>\n",
              "    .dataframe tbody tr th:only-of-type {\n",
              "        vertical-align: middle;\n",
              "    }\n",
              "\n",
              "    .dataframe tbody tr th {\n",
              "        vertical-align: top;\n",
              "    }\n",
              "\n",
              "    .dataframe thead th {\n",
              "        text-align: right;\n",
              "    }\n",
              "</style>\n",
              "<table border=\"1\" class=\"dataframe\">\n",
              "  <thead>\n",
              "    <tr style=\"text-align: right;\">\n",
              "      <th></th>\n",
              "      <th>knn_mae</th>\n",
              "      <th>rf_mae</th>\n",
              "      <th>xgb_mae</th>\n",
              "    </tr>\n",
              "  </thead>\n",
              "  <tbody>\n",
              "    <tr>\n",
              "      <th>0</th>\n",
              "      <td>5655.532384</td>\n",
              "      <td>4712.676207</td>\n",
              "      <td>6389.561955</td>\n",
              "    </tr>\n",
              "    <tr>\n",
              "      <th>1</th>\n",
              "      <td>6138.425223</td>\n",
              "      <td>5697.670697</td>\n",
              "      <td>5928.286153</td>\n",
              "    </tr>\n",
              "    <tr>\n",
              "      <th>2</th>\n",
              "      <td>6161.376088</td>\n",
              "      <td>4782.590168</td>\n",
              "      <td>7317.182374</td>\n",
              "    </tr>\n",
              "    <tr>\n",
              "      <th>3</th>\n",
              "      <td>3497.597119</td>\n",
              "      <td>3119.293966</td>\n",
              "      <td>3132.539086</td>\n",
              "    </tr>\n",
              "    <tr>\n",
              "      <th>4</th>\n",
              "      <td>5039.231303</td>\n",
              "      <td>2815.700743</td>\n",
              "      <td>4153.996521</td>\n",
              "    </tr>\n",
              "  </tbody>\n",
              "</table>\n",
              "</div>"
            ],
            "text/plain": [
              "       knn_mae       rf_mae      xgb_mae\n",
              "0  5655.532384  4712.676207  6389.561955\n",
              "1  6138.425223  5697.670697  5928.286153\n",
              "2  6161.376088  4782.590168  7317.182374\n",
              "3  3497.597119  3119.293966  3132.539086\n",
              "4  5039.231303  2815.700743  4153.996521"
            ]
          },
          "metadata": {},
          "execution_count": 9
        }
      ]
    },
    {
      "cell_type": "code",
      "metadata": {
        "colab": {
          "base_uri": "https://localhost:8080/",
          "height": 405
        },
        "id": "n8c5CY7DQdyy",
        "outputId": "ca09a267-642b-4344-ca57-5e5972289728"
      },
      "source": [
        "plt.figure(figsize=(10,6))\n",
        "sns.boxplot(x=\"variable\", y=\"value\", data=pd.melt(exp1_results_df), palette='crest')\n",
        "plt.title(\"Distribution of various model's performance for Experiment 1\")\n",
        "plt.show()"
      ],
      "execution_count": 11,
      "outputs": [
        {
          "output_type": "display_data",
          "data": {
            "image/png": "[encoded data removed]",
            "text/plain": [
              "<Figure size 720x432 with 1 Axes>"
            ]
          },
          "metadata": {
            "needs_background": "light"
          }
        }
      ]
    },
    {
      "cell_type": "markdown",
      "metadata": {
        "id": "rtNvw3v5lAEa"
      },
      "source": [
        "#### Deepdive hyperparameter tuning of the Random Forest Regressor as the performance of RF as better than the remaning two regressors"
      ]
    },
    {
      "cell_type": "code",
      "metadata": {
        "id": "vjOZpdK_x7Pv",
        "colab": {
          "base_uri": "https://localhost:8080/"
        },
        "outputId": "46d2efdb-2e98-4c14-8713-31e3d1029b5a"
      },
      "source": [
        "from sklearn.model_selection import ShuffleSplit\n",
        "\n",
        "exp1_sl_grid = GridSearchCV(RandomForestRegressor(),\n",
        "                    param_grid  = {'max_depth': list(np.arange(20,80)),'max_features' : ['auto','sqrt', 'log2'], 'n_estimators': list(np.arange(1,30))},\n",
        "                    cv = KFold(n_splits=5, shuffle=True, random_state=1),\n",
        "                    scoring='neg_mean_absolute_error')\n",
        "\n",
        "exp1_sl_grid.fit(trainx_exp1,train_y)"
      ],
      "execution_count": null,
      "outputs": [
        {
          "output_type": "execute_result",
          "data": {
            "text/plain": [
              "GridSearchCV(cv=KFold(n_splits=5, random_state=1, shuffle=True),\n",
              "             estimator=RandomForestRegressor(),\n",
              "             param_grid={'max_depth': [20, 21, 22, 23, 24, 25, 26, 27, 28, 29,\n",
              "                                       30, 31, 32, 33, 34, 35, 36, 37, 38, 39,\n",
              "                                       40, 41, 42, 43, 44, 45, 46, 47, 48, 49, ...],\n",
              "                         'max_features': ['auto', 'sqrt', 'log2'],\n",
              "                         'n_estimators': [1, 2, 3, 4, 5, 6, 7, 8, 9, 10, 11, 12,\n",
              "                                          13, 14, 15, 16, 17, 18, 19, 20, 21,\n",
              "                                          22, 23, 24, 25, 26, 27, 28, 29]},\n",
              "             scoring='neg_mean_absolute_error')"
            ]
          },
          "metadata": {},
          "execution_count": 66
        }
      ]
    },
    {
      "cell_type": "code",
      "metadata": {
        "colab": {
          "base_uri": "https://localhost:8080/"
        },
        "id": "qDU1AQeidb0p",
        "outputId": "cc7c1e74-d422-4b99-f590-8f999eac841e"
      },
      "source": [
        "print(\"Best Score: \", exp1_sl_grid.best_score_)\n",
        "print(\"Best Parameters: \",exp1_sl_grid.best_params_)"
      ],
      "execution_count": null,
      "outputs": [
        {
          "output_type": "stream",
          "name": "stdout",
          "text": [
            "Best Score:  -3878.9381359639397\n",
            "Best Parameters:  {'max_depth': 23, 'max_features': 'auto', 'n_estimators': 3}\n"
          ]
        }
      ]
    },
    {
      "cell_type": "markdown",
      "metadata": {
        "id": "jrshnVkjlgbl"
      },
      "source": [
        "#### Creating a distribution of MAE on the Test Datasets in oreder to create a 95% Confidence interval of the predictions on the Test Dataset"
      ]
    },
    {
      "cell_type": "code",
      "metadata": {
        "id": "StTT5zd5nSlY"
      },
      "source": [
        "from sklearn.metrics import mean_absolute_error\n",
        "exp1_test_mae=[]\n",
        "exp1_model= RandomForestRegressor(max_depth= 23, max_features= 'auto', n_estimators= 3)\n",
        "exp1_mod_list=[]\n",
        "for i in range(20):\n",
        "    exp1_model.fit(trainx_exp1,train_y)\n",
        "    exp1_mod_list.append(exp1_model)\n",
        "    exp1_pred= exp1_model.predict(testx_exp1)\n",
        "    exp1_test_mae.append(mean_absolute_error(test_y,exp1_pred))"
      ],
      "execution_count": null,
      "outputs": []
    },
    {
      "cell_type": "markdown",
      "metadata": {
        "id": "Z1H-fbmA3mqd"
      },
      "source": [
        "#### **Results** Performance of best selected model from experiment 1 on Test dataset."
      ]
    },
    {
      "cell_type": "code",
      "metadata": {
        "colab": {
          "base_uri": "https://localhost:8080/",
          "height": 336
        },
        "id": "V_1olzQLtSBx",
        "outputId": "841adcfe-f2f0-4676-c187-e18658fa3f00"
      },
      "source": [
        "exp1_test_mae= pd.DataFrame(exp1_test_mae)\n",
        "exp1_test_mae.columns= ['Test_MAE']\n",
        "\n",
        "plt.figure(figsize=(10,5))\n",
        "sns.barplot(x= exp1_test_mae.index,y='Test_MAE',data= exp1_test_mae, palette='crest')\n",
        "plt.title('Distribution of MAE scores on the Test Dataset for Experiment 1')\n",
        "plt.show()"
      ],
      "execution_count": null,
      "outputs": [
        {
          "output_type": "display_data",
          "data": {
            "image/png": "[encoded data removed]",
            "text/plain": [
              "<Figure size 720x360 with 1 Axes>"
            ]
          },
          "metadata": {
            "needs_background": "light"
          }
        }
      ]
    },
    {
      "cell_type": "markdown",
      "metadata": {
        "id": "Jtj4JRckmGaL"
      },
      "source": [
        "### 95% Confidence Interval of Test Predictions for Experiment 1"
      ]
    },
    {
      "cell_type": "code",
      "metadata": {
        "colab": {
          "base_uri": "https://localhost:8080/"
        },
        "id": "Ta7WbP17wffp",
        "outputId": "4f68f406-1303-48aa-e70e-b690978346a7"
      },
      "source": [
        "print(\"Mean Test MAE for Experiment 1: \",exp1_test_mae['Test_MAE'].mean())\n",
        "print(\"Std Dev of MAE for Experiment 2: \",exp1_test_mae['Test_MAE'].std())\n",
        "\n",
        "ci= 2.0935*exp1_test_mae['Test_MAE'].std()\n",
        "\n",
        "lower_interval= exp1_test_mae['Test_MAE'].mean()-ci\n",
        "upper_interval= exp1_test_mae['Test_MAE'].mean()+ci\n",
        "\n",
        "print(\"The 95% interval of Test MAE for Experiment 1 ranges between {} and {}\".format(lower_interval,upper_interval))"
      ],
      "execution_count": null,
      "outputs": [
        {
          "output_type": "stream",
          "name": "stdout",
          "text": [
            "Mean Test MAE for Experiment 1:  2775.2470367422625\n",
            "Std Dev of MAE for Experiment 2:  402.35543760075996\n",
            "The 95% interval of Test MAE for Experiment 1 ranges between 1932.9159281250713 and 3617.5781453594536\n"
          ]
        }
      ]
    },
    {
      "cell_type": "code",
      "metadata": {
        "id": "VaYdj9aCbTN3"
      },
      "source": [
        ""
      ],
      "execution_count": null,
      "outputs": []
    },
    {
      "cell_type": "markdown",
      "metadata": {
        "id": "KGqW9YnL-F7D"
      },
      "source": [
        "### Experiment 1(a): Feature Importance attribute of the Random Forests Regressor was used to extract features with importance greater than 0.01."
      ]
    },
    {
      "cell_type": "code",
      "metadata": {
        "colab": {
          "base_uri": "https://localhost:8080/",
          "height": 452
        },
        "id": "Z7zoBvFS5U3B",
        "outputId": "1444f692-2754-465c-aa58-f24bdd697d59"
      },
      "source": [
        "exp1_impdf= pd.DataFrame(exp1_bestmodel.feature_importances_,index=trainx_exp1.columns)\n",
        "exp1_impdf.columns=['feature_impotance']\n",
        "exp1_impdf\n",
        "\n",
        "plt.figure(figsize=(10,4))\n",
        "exp1_impdf.plot.bar()\n",
        "ax.set_title(\"Feature importances using MDI\")\n",
        "ax.set_ylabel(\"Mean decrease in impurity\")\n",
        "#fig.tight_layout()\n",
        "plt.show()"
      ],
      "execution_count": null,
      "outputs": [
        {
          "output_type": "display_data",
          "data": {
            "text/plain": [
              "<Figure size 720x288 with 0 Axes>"
            ]
          },
          "metadata": {}
        },
        {
          "output_type": "display_data",
          "data": {
            "image/png": "[encoded data removed]",
            "text/plain": [
              "<Figure size 432x288 with 1 Axes>"
            ]
          },
          "metadata": {
            "needs_background": "light"
          }
        }
      ]
    },
    {
      "cell_type": "code",
      "metadata": {
        "colab": {
          "base_uri": "https://localhost:8080/"
        },
        "id": "tSMU1qNT5UtG",
        "outputId": "c6b5c62c-a715-49e0-feab-f0a9553c0054"
      },
      "source": [
        "exp1_newfeatures= list(exp1_impdf[exp1_impdf['feature_impotance']>0.01].index)\n",
        "exp1_newfeatures"
      ],
      "execution_count": null,
      "outputs": [
        {
          "output_type": "execute_result",
          "data": {
            "text/plain": [
              "['TP_type_driver',\n",
              " 'TP_type_pass_front',\n",
              " 'TP_type_bike',\n",
              " 'TP_type_other',\n",
              " 'TP_injury_traumatic',\n",
              " 'TP_injury_fatality',\n",
              " 'TP_region_southe',\n",
              " 'TP_region_southw',\n",
              " 'TP_region_wales',\n",
              " 'TP_region_yorkshire',\n",
              " 'Capped Incurred',\n",
              " 'month_loss',\n",
              " 'Location_of_incident_Not Applicable',\n",
              " 'Location_of_incident_n/k']"
            ]
          },
          "metadata": {},
          "execution_count": 46
        }
      ]
    },
    {
      "cell_type": "markdown",
      "metadata": {
        "id": "gAAuXKIv3INI"
      },
      "source": [
        "### Model evaluation and hyperparameter tuning has been carried out further on the selected features as part of experiment 1(a)"
      ]
    },
    {
      "cell_type": "code",
      "metadata": {
        "id": "2G0MIHNs5Un2"
      },
      "source": [
        "trainx_exp1_rev= trainx_exp1[exp1_newfeatures]\n",
        "testx_exp1_rev= testx_exp1[exp1_newfeatures]"
      ],
      "execution_count": null,
      "outputs": []
    },
    {
      "cell_type": "code",
      "metadata": {
        "colab": {
          "base_uri": "https://localhost:8080/"
        },
        "id": "bDzDWFwr5Uiz",
        "outputId": "74acd7cb-1bfe-4a44-9a14-70bd43e9b7f1"
      },
      "source": [
        "from sklearn.model_selection import ShuffleSplit\n",
        "\n",
        "exp1_rev_grid = GridSearchCV(RandomForestRegressor(),\n",
        "                    param_grid  = {'max_depth': list(np.arange(1,50)),'max_features' : ['auto','sqrt', 'log2'], 'n_estimators': list(np.arange(1,30))},\n",
        "                    cv = KFold(n_splits=5, shuffle=True, random_state=1),\n",
        "                    scoring='neg_mean_absolute_error')\n",
        "\n",
        "exp1_rev_grid.fit(trainx_exp1_rev,train_y)"
      ],
      "execution_count": null,
      "outputs": [
        {
          "output_type": "execute_result",
          "data": {
            "text/plain": [
              "GridSearchCV(cv=KFold(n_splits=5, random_state=1, shuffle=True),\n",
              "             estimator=RandomForestRegressor(),\n",
              "             param_grid={'max_depth': [1, 2, 3, 4, 5, 6, 7, 8, 9, 10, 11, 12,\n",
              "                                       13, 14, 15, 16, 17, 18, 19, 20, 21, 22,\n",
              "                                       23, 24, 25, 26, 27, 28, 29, 30, ...],\n",
              "                         'max_features': ['auto', 'sqrt', 'log2'],\n",
              "                         'n_estimators': [1, 2, 3, 4, 5, 6, 7, 8, 9, 10, 11, 12,\n",
              "                                          13, 14, 15, 16, 17, 18, 19, 20, 21,\n",
              "                                          22, 23, 24, 25, 26, 27, 28, 29]},\n",
              "             scoring='neg_mean_absolute_error')"
            ]
          },
          "metadata": {},
          "execution_count": 48
        }
      ]
    },
    {
      "cell_type": "code",
      "metadata": {
        "colab": {
          "base_uri": "https://localhost:8080/"
        },
        "id": "kyzR_IN55Udg",
        "outputId": "aefb4aed-db2e-4054-d435-7b672b85445c"
      },
      "source": [
        "print(\"Best Score: \", exp1_rev_grid.best_score_)\n",
        "print(\"Best Parameters: \",exp1_rev_grid.best_params_)"
      ],
      "execution_count": null,
      "outputs": [
        {
          "output_type": "stream",
          "name": "stdout",
          "text": [
            "Best Score:  -4044.515046129781\n",
            "Best Parameters:  {'max_depth': 38, 'max_features': 'auto', 'n_estimators': 5}\n"
          ]
        }
      ]
    },
    {
      "cell_type": "markdown",
      "metadata": {
        "id": "bYeR00sonA7Z"
      },
      "source": [
        "#### Deepdive hyperparameter tuning of the Random Forest Regressor as the performance of RF as better than the remaning two regressors"
      ]
    },
    {
      "cell_type": "code",
      "metadata": {
        "id": "8OVf8N5lu73O"
      },
      "source": [
        "from sklearn.metrics import mean_absolute_error\n",
        "exp1rev_test_mae=[]\n",
        "exp1rev_model= RandomForestRegressor(max_depth= 38, max_features= 'auto', n_estimators= 5)\n",
        "exp1rev_mod_list=[]\n",
        "for i in range(20):\n",
        "    exp1rev_model.fit(trainx_exp1_rev,train_y)\n",
        "    exp1rev_mod_list.append(exp1rev_model)\n",
        "    exp1rev_pred= exp1rev_model.predict(testx_exp1_rev)\n",
        "    exp1rev_test_mae.append(mean_absolute_error(test_y,exp1rev_pred))"
      ],
      "execution_count": null,
      "outputs": []
    },
    {
      "cell_type": "markdown",
      "metadata": {
        "id": "O-IYManr3iXK"
      },
      "source": [
        "#### **Results** Performance of best selected model from experiment 1(a) on Test dataset."
      ]
    },
    {
      "cell_type": "code",
      "metadata": {
        "colab": {
          "base_uri": "https://localhost:8080/",
          "height": 336
        },
        "id": "X_c3DrNSfBz-",
        "outputId": "ca3cc91f-acb8-466b-c9ac-fcba9b6ffa20"
      },
      "source": [
        "exp1rev_test_mae= pd.DataFrame(exp1rev_test_mae)\n",
        "exp1rev_test_mae.columns= ['Test_MAE']\n",
        "\n",
        "plt.figure(figsize=(10,5))\n",
        "sns.barplot(x= exp1rev_test_mae.index,y='Test_MAE',data= exp1rev_test_mae, palette='crest')\n",
        "plt.title('Distribution of MAE scores on the Test Dataset for Experiment 1 Revised Dataset')\n",
        "plt.show()"
      ],
      "execution_count": null,
      "outputs": [
        {
          "output_type": "display_data",
          "data": {
            "image/png": "[encoded data removed]",
            "text/plain": [
              "<Figure size 720x360 with 1 Axes>"
            ]
          },
          "metadata": {
            "needs_background": "light"
          }
        }
      ]
    },
    {
      "cell_type": "markdown",
      "metadata": {
        "id": "WtfTdOsNmiQ5"
      },
      "source": [
        "### 95% Confidence Interval of Test Predictions for Experiment 1(a)"
      ]
    },
    {
      "cell_type": "code",
      "metadata": {
        "colab": {
          "base_uri": "https://localhost:8080/"
        },
        "id": "ckIkJY-gfBtz",
        "outputId": "802dce85-2e5e-4e61-a715-0a665872d824"
      },
      "source": [
        "print(\"Mean Test MAE for Experiment 1 revised dataset: \",exp1rev_test_mae['Test_MAE'].mean())\n",
        "print(\"Std Dev of MAE for Experiment 1 revised dataset: \",exp1rev_test_mae['Test_MAE'].std())\n",
        "\n",
        "ci= 2.0935*exp1rev_test_mae['Test_MAE'].std()\n",
        "\n",
        "lower_interval= exp1rev_test_mae['Test_MAE'].mean()-ci\n",
        "upper_interval= exp1rev_test_mae['Test_MAE'].mean()+ci\n",
        "\n",
        "print(\"The 95% interval of Test MAE for Experiment 1 revised dataset ranges between {} and {}\".format(lower_interval,upper_interval))"
      ],
      "execution_count": null,
      "outputs": [
        {
          "output_type": "stream",
          "name": "stdout",
          "text": [
            "Mean Test MAE for Experiment 1 revised dataset:  2606.029304848952\n",
            "Std Dev of MAE for Experiment 1 revised dataset:  347.80954005095987\n",
            "The 95% interval of Test MAE for Experiment 1 revised dataset ranges between 1877.8900327522674 and 3334.1685769456367\n"
          ]
        }
      ]
    },
    {
      "cell_type": "markdown",
      "metadata": {
        "id": "D3lHY4jixIao"
      },
      "source": [
        "# **Exepriment 2**: Using the Features Extracted from Lasso Co-efficients "
      ]
    },
    {
      "cell_type": "code",
      "metadata": {
        "id": "xRkk7SVUx7JC"
      },
      "source": [
        "trainx_exp2= train_x_scl[lasso_features]\n",
        "testx_exp2= test_x_scl[lasso_features]"
      ],
      "execution_count": null,
      "outputs": []
    },
    {
      "cell_type": "code",
      "metadata": {
        "id": "8YR22hdlyfxt"
      },
      "source": [
        "with open('/content/drive/MyDrive/Hastings/trainx_exp2.pkl','wb') as tr_exp2:\n",
        "    pickle.dump(trainx_exp2,tr_exp2)\n",
        "with open('/content/drive/MyDrive/Hastings/testx_exp2.pkl','wb') as te_exp2:\n",
        "    pickle.dump(testx_exp2,te_exp2)"
      ],
      "execution_count": null,
      "outputs": []
    },
    {
      "cell_type": "code",
      "metadata": {
        "id": "xiP7ye-e7mqZ"
      },
      "source": [
        "with open('/content/drive/MyDrive/Hastings/trainx_exp2.pkl','rb') as tr_exp2:\n",
        "    trainx_exp2= pickle.load(tr_exp2)\n",
        "with open('/content/drive/MyDrive/Hastings/testx_exp2.pkl','rb') as te_exp2:\n",
        "    testx_exp2= pickle.load(te_exp2)"
      ],
      "execution_count": null,
      "outputs": []
    },
    {
      "cell_type": "code",
      "metadata": {
        "id": "O1LizlOQxFNS"
      },
      "source": [
        "from sklearn.svm import SVR\n",
        "import xgboost as xgb\n",
        "from sklearn.model_selection import GridSearchCV\n",
        "from sklearn.model_selection import KFold\n",
        "from sklearn.model_selection import cross_val_score\n",
        "from sklearn.pipeline import Pipeline\n",
        "from sklearn.linear_model import LinearRegression\n",
        "from sklearn.neighbors import KNeighborsRegressor\n",
        "from sklearn.ensemble import RandomForestRegressor\n",
        "from sklearn.metrics import mean_absolute_error\n",
        "\n",
        "# Initializing Classifiers\n",
        "reg1 = KNeighborsRegressor()\n",
        "reg2 = RandomForestRegressor()\n",
        "reg3 = xgb.XGBRegressor()\n",
        "\n",
        "# Setting up the parameter grids\n",
        "param_grid1 = [{'algorithm': ['ball_tree'],'leaf_size': [50], 'n_neighbors': [1,13,25,35,55,75,91,101],'p': [1, 2]}]\n",
        "\n",
        "param_grid2 = [{'n_estimators': [1,10,100,300,700,1000,5000],\n",
        "                'max_depth': list(np.arange(5, 50))}]\n",
        "\n",
        "param_grid3 = [{'n_estimators': [1,10,100,300,700,1000,5000],\n",
        "                'max_depth': list(np.arange(1, 10))}]"
      ],
      "execution_count": null,
      "outputs": []
    },
    {
      "cell_type": "code",
      "metadata": {
        "id": "TnjE-Y-YxE74"
      },
      "source": [
        "gridcvs = {}\n",
        "inner_cv = KFold(n_splits=2, shuffle=True, random_state=1)\n",
        "\n",
        "for pgrid, est, name in zip((param_grid1, param_grid2, param_grid3),\n",
        "                            (reg1, reg2, reg3),\n",
        "                            ('KNN','RF','XGB')):\n",
        "    gcv = GridSearchCV(estimator=est,\n",
        "                       param_grid=pgrid,\n",
        "                       scoring='neg_mean_absolute_error',\n",
        "                       n_jobs=-1,\n",
        "                       cv=inner_cv,\n",
        "                       verbose=0,\n",
        "                       refit=True)\n",
        "    gridcvs[name] = gcv"
      ],
      "execution_count": null,
      "outputs": []
    },
    {
      "cell_type": "code",
      "metadata": {
        "colab": {
          "base_uri": "https://localhost:8080/"
        },
        "id": "v5n7TtJjxE2V",
        "outputId": "5a5458f7-63ee-46ea-c8e7-5111933e93ea"
      },
      "source": [
        "MAE_dict=[]\n",
        "for name, gs_est in sorted(gridcvs.items()):\n",
        "\n",
        "    print(50 * '-', '\\n')\n",
        "    print('Algorithm:', name)\n",
        "    print('    Inner loop:')\n",
        "    \n",
        "    outer_scores = []\n",
        "    outer_cv = KFold(n_splits=5, shuffle=True, random_state=1)\n",
        "    \n",
        "    for train_idx, valid_idx in outer_cv.split(trainx_exp2, train_y):\n",
        "        \n",
        "        gridcvs[name].fit(trainx_exp2.iloc[train_idx,:], train_y.iloc[train_idx]) \n",
        "        print('\\n        Best MAE (avg. of inner test folds)', (gridcvs[name].best_score_))\n",
        "        print('        Best parameters:', gridcvs[name].best_params_)\n",
        "        \n",
        "        in_best_reg= gridcvs[name].best_estimator_\n",
        "        in_pred= in_best_reg.predict(trainx_exp2.iloc[valid_idx,:])\n",
        "        \n",
        "        outer_scores.append((-1*mean_absolute_error(train_y[valid_idx],in_pred)))\n",
        "    \n",
        "    m_dict= {name:outer_scores}\n",
        "    MAE_dict.append(m_dict)\n",
        "    print('\\n    Outer Loop:')\n",
        "    print('MAE Values for all the outer loops: ',outer_scores)\n",
        "    print('Mean MAE of all MAE in outer loops: ',np.mean(outer_scores))"
      ],
      "execution_count": null,
      "outputs": [
        {
          "name": "stdout",
          "output_type": "stream",
          "text": [
            "-------------------------------------------------- \n",
            "\n",
            "Algorithm: KNN\n",
            "    Inner loop:\n",
            "\n",
            "        Best MAE (avg. of inner test folds) -8121.74187539755\n",
            "        Best parameters: {'algorithm': 'ball_tree', 'leaf_size': 50, 'n_neighbors': 13, 'p': 1}\n",
            "\n",
            "        Best MAE (avg. of inner test folds) -7880.827560117546\n",
            "        Best parameters: {'algorithm': 'ball_tree', 'leaf_size': 50, 'n_neighbors': 13, 'p': 1}\n",
            "\n",
            "        Best MAE (avg. of inner test folds) -7934.438628898952\n",
            "        Best parameters: {'algorithm': 'ball_tree', 'leaf_size': 50, 'n_neighbors': 13, 'p': 1}\n",
            "\n",
            "        Best MAE (avg. of inner test folds) -8934.004351487809\n",
            "        Best parameters: {'algorithm': 'ball_tree', 'leaf_size': 50, 'n_neighbors': 13, 'p': 1}\n",
            "\n",
            "        Best MAE (avg. of inner test folds) -8502.91389351884\n",
            "        Best parameters: {'algorithm': 'ball_tree', 'leaf_size': 50, 'n_neighbors': 13, 'p': 1}\n",
            "\n",
            "    Outer Loop:\n",
            "MAE Values for all the outer loops:  [-8163.717150529353, -9357.00611440831, -9328.143759175455, -5313.741781247754, -7078.940018668373]\n",
            "Mean MAE of all MAE in outer loops:  -7848.309764805849\n",
            "-------------------------------------------------- \n",
            "\n",
            "Algorithm: RF\n",
            "    Inner loop:\n"
          ]
        },
        {
          "name": "stderr",
          "output_type": "stream",
          "text": [
            "/usr/local/lib/python3.7/dist-packages/joblib/externals/loky/process_executor.py:705: UserWarning: A worker stopped while some jobs were given to the executor. This can be caused by a too short worker timeout or by a memory leak.\n",
            "  \"timeout or by a memory leak.\", UserWarning\n"
          ]
        },
        {
          "name": "stdout",
          "output_type": "stream",
          "text": [
            "\n",
            "        Best MAE (avg. of inner test folds) -4065.7214090120146\n",
            "        Best parameters: {'max_depth': 29, 'n_estimators': 10}\n"
          ]
        },
        {
          "name": "stderr",
          "output_type": "stream",
          "text": [
            "/usr/local/lib/python3.7/dist-packages/joblib/externals/loky/process_executor.py:705: UserWarning: A worker stopped while some jobs were given to the executor. This can be caused by a too short worker timeout or by a memory leak.\n",
            "  \"timeout or by a memory leak.\", UserWarning\n"
          ]
        },
        {
          "name": "stdout",
          "output_type": "stream",
          "text": [
            "\n",
            "        Best MAE (avg. of inner test folds) -3318.4451352883852\n",
            "        Best parameters: {'max_depth': 24, 'n_estimators': 10}\n"
          ]
        },
        {
          "name": "stderr",
          "output_type": "stream",
          "text": [
            "/usr/local/lib/python3.7/dist-packages/joblib/externals/loky/process_executor.py:705: UserWarning: A worker stopped while some jobs were given to the executor. This can be caused by a too short worker timeout or by a memory leak.\n",
            "  \"timeout or by a memory leak.\", UserWarning\n"
          ]
        },
        {
          "name": "stdout",
          "output_type": "stream",
          "text": [
            "\n",
            "        Best MAE (avg. of inner test folds) -3826.2642458322575\n",
            "        Best parameters: {'max_depth': 18, 'n_estimators': 1}\n"
          ]
        },
        {
          "name": "stderr",
          "output_type": "stream",
          "text": [
            "/usr/local/lib/python3.7/dist-packages/joblib/externals/loky/process_executor.py:705: UserWarning: A worker stopped while some jobs were given to the executor. This can be caused by a too short worker timeout or by a memory leak.\n",
            "  \"timeout or by a memory leak.\", UserWarning\n"
          ]
        },
        {
          "name": "stdout",
          "output_type": "stream",
          "text": [
            "\n",
            "        Best MAE (avg. of inner test folds) -4420.694787163659\n",
            "        Best parameters: {'max_depth': 7, 'n_estimators': 10}\n"
          ]
        },
        {
          "name": "stderr",
          "output_type": "stream",
          "text": [
            "/usr/local/lib/python3.7/dist-packages/joblib/externals/loky/process_executor.py:705: UserWarning: A worker stopped while some jobs were given to the executor. This can be caused by a too short worker timeout or by a memory leak.\n",
            "  \"timeout or by a memory leak.\", UserWarning\n"
          ]
        },
        {
          "name": "stdout",
          "output_type": "stream",
          "text": [
            "\n",
            "        Best MAE (avg. of inner test folds) -4192.020854458025\n",
            "        Best parameters: {'max_depth': 13, 'n_estimators': 1}\n",
            "\n",
            "    Outer Loop:\n",
            "MAE Values for all the outer loops:  [-5479.332055370273, -5370.427222492162, -7920.53292729058, -3035.5491674381133, -3832.688348832517]\n",
            "Mean MAE of all MAE in outer loops:  -5127.705944284729\n",
            "-------------------------------------------------- \n",
            "\n",
            "Algorithm: XGB\n",
            "    Inner loop:\n"
          ]
        },
        {
          "name": "stderr",
          "output_type": "stream",
          "text": [
            "/usr/local/lib/python3.7/dist-packages/joblib/externals/loky/process_executor.py:705: UserWarning: A worker stopped while some jobs were given to the executor. This can be caused by a too short worker timeout or by a memory leak.\n",
            "  \"timeout or by a memory leak.\", UserWarning\n"
          ]
        },
        {
          "name": "stdout",
          "output_type": "stream",
          "text": [
            "[14:05:29] WARNING: /workspace/src/objective/regression_obj.cu:152: reg:linear is now deprecated in favor of reg:squarederror.\n",
            "\n",
            "        Best MAE (avg. of inner test folds) -4414.718176778195\n",
            "        Best parameters: {'max_depth': 9, 'n_estimators': 100}\n",
            "[14:09:42] WARNING: /workspace/src/objective/regression_obj.cu:152: reg:linear is now deprecated in favor of reg:squarederror.\n",
            "\n",
            "        Best MAE (avg. of inner test folds) -3955.5231728764957\n",
            "        Best parameters: {'max_depth': 5, 'n_estimators': 100}\n",
            "[14:13:53] WARNING: /workspace/src/objective/regression_obj.cu:152: reg:linear is now deprecated in favor of reg:squarederror.\n",
            "\n",
            "        Best MAE (avg. of inner test folds) -5200.867912142808\n",
            "        Best parameters: {'max_depth': 3, 'n_estimators': 100}\n",
            "[14:18:05] WARNING: /workspace/src/objective/regression_obj.cu:152: reg:linear is now deprecated in favor of reg:squarederror.\n",
            "\n",
            "        Best MAE (avg. of inner test folds) -5230.962384176306\n",
            "        Best parameters: {'max_depth': 9, 'n_estimators': 100}\n",
            "[14:22:13] WARNING: /workspace/src/objective/regression_obj.cu:152: reg:linear is now deprecated in favor of reg:squarederror.\n",
            "\n",
            "        Best MAE (avg. of inner test folds) -4781.379724947362\n",
            "        Best parameters: {'max_depth': 5, 'n_estimators': 100}\n",
            "\n",
            "    Outer Loop:\n",
            "MAE Values for all the outer loops:  [-5459.755467571405, -7064.6343450642635, -6863.286690291598, -3772.7649098736615, -3905.659712230313]\n",
            "Mean MAE of all MAE in outer loops:  -5413.220225006248\n"
          ]
        }
      ]
    },
    {
      "cell_type": "code",
      "metadata": {
        "id": "lDeST8XGxExK",
        "colab": {
          "base_uri": "https://localhost:8080/",
          "height": 204
        },
        "outputId": "bb3d40c0-b251-47b8-904e-0e481217969d"
      },
      "source": [
        "exp2_dict= {'knn_mae':[8163.717150529353, 9357.00611440831, 9328.143759175455, 5313.741781247754, 7078.940018668373],\n",
        "            'rf_mae': [5479.332055370273, 5370.427222492162, 7920.53292729058, 3035.5491674381133, 3832.688348832517],\n",
        "            'xgb_mae':[5459.755467571405, 7064.6343450642635, 6863.286690291598, 3772.7649098736615, 3905.659712230313]}\n",
        "\n",
        "exp2_results_df= pd.DataFrame(exp2_dict)\n",
        "exp2_results_df"
      ],
      "execution_count": 12,
      "outputs": [
        {
          "output_type": "execute_result",
          "data": {
            "text/html": [
              "<div>\n",
              "<style scoped>\n",
              "    .dataframe tbody tr th:only-of-type {\n",
              "        vertical-align: middle;\n",
              "    }\n",
              "\n",
              "    .dataframe tbody tr th {\n",
              "        vertical-align: top;\n",
              "    }\n",
              "\n",
              "    .dataframe thead th {\n",
              "        text-align: right;\n",
              "    }\n",
              "</style>\n",
              "<table border=\"1\" class=\"dataframe\">\n",
              "  <thead>\n",
              "    <tr style=\"text-align: right;\">\n",
              "      <th></th>\n",
              "      <th>knn_mae</th>\n",
              "      <th>rf_mae</th>\n",
              "      <th>xgb_mae</th>\n",
              "    </tr>\n",
              "  </thead>\n",
              "  <tbody>\n",
              "    <tr>\n",
              "      <th>0</th>\n",
              "      <td>8163.717151</td>\n",
              "      <td>5479.332055</td>\n",
              "      <td>5459.755468</td>\n",
              "    </tr>\n",
              "    <tr>\n",
              "      <th>1</th>\n",
              "      <td>9357.006114</td>\n",
              "      <td>5370.427222</td>\n",
              "      <td>7064.634345</td>\n",
              "    </tr>\n",
              "    <tr>\n",
              "      <th>2</th>\n",
              "      <td>9328.143759</td>\n",
              "      <td>7920.532927</td>\n",
              "      <td>6863.286690</td>\n",
              "    </tr>\n",
              "    <tr>\n",
              "      <th>3</th>\n",
              "      <td>5313.741781</td>\n",
              "      <td>3035.549167</td>\n",
              "      <td>3772.764910</td>\n",
              "    </tr>\n",
              "    <tr>\n",
              "      <th>4</th>\n",
              "      <td>7078.940019</td>\n",
              "      <td>3832.688349</td>\n",
              "      <td>3905.659712</td>\n",
              "    </tr>\n",
              "  </tbody>\n",
              "</table>\n",
              "</div>"
            ],
            "text/plain": [
              "       knn_mae       rf_mae      xgb_mae\n",
              "0  8163.717151  5479.332055  5459.755468\n",
              "1  9357.006114  5370.427222  7064.634345\n",
              "2  9328.143759  7920.532927  6863.286690\n",
              "3  5313.741781  3035.549167  3772.764910\n",
              "4  7078.940019  3832.688349  3905.659712"
            ]
          },
          "metadata": {},
          "execution_count": 12
        }
      ]
    },
    {
      "cell_type": "code",
      "metadata": {
        "colab": {
          "base_uri": "https://localhost:8080/",
          "height": 405
        },
        "id": "jbQLXNfrcRTp",
        "outputId": "2654dc6c-6ec6-40a8-cdb3-8f843e0090fa"
      },
      "source": [
        "plt.figure(figsize=(10,6))\n",
        "sns.boxplot(x=\"variable\", y=\"value\", data=pd.melt(exp2_results_df), palette='crest')\n",
        "plt.title(\"Distribution of various model's performance for Experiment 2\")\n",
        "plt.show()"
      ],
      "execution_count": 13,
      "outputs": [
        {
          "output_type": "display_data",
          "data": {
            "image/png": "[encoded data removed]",
            "text/plain": [
              "<Figure size 720x432 with 1 Axes>"
            ]
          },
          "metadata": {
            "needs_background": "light"
          }
        }
      ]
    },
    {
      "cell_type": "code",
      "metadata": {
        "id": "KC3BhjDVcQt2",
        "colab": {
          "base_uri": "https://localhost:8080/"
        },
        "outputId": "2bb03bbc-59a6-48f4-ee73-77105bd7f9e6"
      },
      "source": [
        "from sklearn.model_selection import KFold\n",
        "from sklearn.model_selection import GridSearchCV\n",
        "from sklearn.ensemble import RandomForestRegressor\n",
        "\n",
        "exp2_sl_grid = GridSearchCV(RandomForestRegressor(),\n",
        "                    param_grid  = {'max_depth': list(np.arange(1,50)),'max_features' : ['auto','sqrt', 'log2'], 'n_estimators': list(np.arange(1,30))},\n",
        "                    cv = KFold(n_splits=5, shuffle=True, random_state=1),\n",
        "                    scoring='neg_mean_absolute_error')\n",
        "\n",
        "exp2_sl_grid.fit(trainx_exp2,train_y)"
      ],
      "execution_count": null,
      "outputs": [
        {
          "output_type": "execute_result",
          "data": {
            "text/plain": [
              "GridSearchCV(cv=KFold(n_splits=5, random_state=1, shuffle=True),\n",
              "             estimator=RandomForestRegressor(),\n",
              "             param_grid={'max_depth': [1, 2, 3, 4, 5, 6, 7, 8, 9, 10, 11, 12,\n",
              "                                       13, 14, 15, 16, 17, 18, 19, 20, 21, 22,\n",
              "                                       23, 24, 25, 26, 27, 28, 29, 30, ...],\n",
              "                         'max_features': ['auto', 'sqrt', 'log2'],\n",
              "                         'n_estimators': [1, 2, 3, 4, 5, 6, 7, 8, 9, 10, 11, 12,\n",
              "                                          13, 14, 15, 16, 17, 18, 19, 20, 21,\n",
              "                                          22, 23, 24, 25, 26, 27, 28, 29]},\n",
              "             scoring='neg_mean_absolute_error')"
            ]
          },
          "metadata": {},
          "execution_count": 9
        }
      ]
    },
    {
      "cell_type": "code",
      "metadata": {
        "id": "rL_kvrJldPuh",
        "colab": {
          "base_uri": "https://localhost:8080/"
        },
        "outputId": "6b1e4d93-211b-41d2-ec85-cda4cc6f32de"
      },
      "source": [
        "print(\"Best Score: \", exp2_sl_grid.best_score_)\n",
        "print(\"Best Parameters: \",exp2_sl_grid.best_params_)"
      ],
      "execution_count": null,
      "outputs": [
        {
          "output_type": "stream",
          "name": "stdout",
          "text": [
            "Best Score:  -3983.1857638563915\n",
            "Best Parameters:  {'max_depth': 13, 'max_features': 'auto', 'n_estimators': 9}\n"
          ]
        }
      ]
    },
    {
      "cell_type": "code",
      "metadata": {
        "id": "1mMqxIwVeisl"
      },
      "source": [
        "exp2_bestmodel= RandomForestRegressor(max_depth= 13, max_features= 'auto', n_estimators= 9)\n",
        "exp2_bestmodel.fit(trainx_exp2,train_y)"
      ],
      "execution_count": null,
      "outputs": []
    },
    {
      "cell_type": "code",
      "metadata": {
        "id": "kWNna4KCWxHA"
      },
      "source": [
        "with open('/content/drive/MyDrive/Hastings/exp2_bestmodel.pkl','wb') as exp2_bm:\n",
        "    pickle.dump(exp2_bestmodel,exp2_bm)"
      ],
      "execution_count": null,
      "outputs": []
    },
    {
      "cell_type": "markdown",
      "metadata": {
        "id": "jlx7oNwvnE0C"
      },
      "source": [
        "#### Deepdive hyperparameter tuning of the Random Forest Regressor as the performance of RF as better than the remaning two regressors"
      ]
    },
    {
      "cell_type": "code",
      "metadata": {
        "id": "ysjBMaD4Sn6D"
      },
      "source": [
        "from sklearn.metrics import mean_absolute_error\n",
        "exp2_test_mae=[]\n",
        "exp2_model= RandomForestRegressor(max_depth= 13, max_features= 'auto', n_estimators= 9)\n",
        "exp2_mod_list=[]\n",
        "for i in range(20):\n",
        "    exp2_model.fit(trainx_exp2,train_y)\n",
        "    exp2_mod_list.append(exp2_model)\n",
        "    exp2_pred= exp2_model.predict(testx_exp2)\n",
        "    exp2_test_mae.append(mean_absolute_error(test_y,exp2_pred))"
      ],
      "execution_count": null,
      "outputs": []
    },
    {
      "cell_type": "markdown",
      "metadata": {
        "id": "4buHki_R2uPv"
      },
      "source": [
        "#### **Results** Performance of best selected model from experiment 2 on Test dataset."
      ]
    },
    {
      "cell_type": "code",
      "metadata": {
        "colab": {
          "base_uri": "https://localhost:8080/",
          "height": 336
        },
        "id": "F_ljG3_PzXoT",
        "outputId": "fc657496-092a-4bcf-cda8-6fac3682bf2c"
      },
      "source": [
        "exp2_test_mae= pd.DataFrame(exp2_test_mae)\n",
        "exp2_test_mae.columns= ['Test_MAE']\n",
        "\n",
        "plt.figure(figsize=(10,5))\n",
        "sns.barplot(x= exp2_test_mae.index,y='Test_MAE',data= exp2_test_mae, palette='crest')\n",
        "plt.title('Distribution of MAE scores on the Test Dataset for Experiment 2')\n",
        "plt.show()"
      ],
      "execution_count": null,
      "outputs": [
        {
          "output_type": "display_data",
          "data": {
            "image/png": "[encoded data removed]",
            "text/plain": [
              "<Figure size 720x360 with 1 Axes>"
            ]
          },
          "metadata": {
            "needs_background": "light"
          }
        }
      ]
    },
    {
      "cell_type": "markdown",
      "metadata": {
        "id": "atuWVoFdmxyp"
      },
      "source": [
        "### 95% Confidence Interval of Test Predictions for Experiment 2"
      ]
    },
    {
      "cell_type": "code",
      "metadata": {
        "colab": {
          "base_uri": "https://localhost:8080/"
        },
        "id": "QFu3vGGKzXgZ",
        "outputId": "32a900a9-252e-44fa-f592-b911041e8b7a"
      },
      "source": [
        "print(\"Mean Test MAE for Experiment 1: \",exp2_test_mae['Test_MAE'].mean())\n",
        "print(\"Std Dev of MAE for Experiment 2: \",exp2_test_mae['Test_MAE'].std())\n",
        "\n",
        "ci= 2.0935*exp2_test_mae['Test_MAE'].std()\n",
        "\n",
        "lower_interval= exp2_test_mae['Test_MAE'].mean()-ci\n",
        "upper_interval= exp2_test_mae['Test_MAE'].mean()+ci\n",
        "\n",
        "print(\"The 95% interval of Test MAE for Experiment 1 ranges between {} and {}\".format(lower_interval,upper_interval))"
      ],
      "execution_count": null,
      "outputs": [
        {
          "output_type": "stream",
          "name": "stdout",
          "text": [
            "Mean Test MAE for Experiment 1:  3004.552883562351\n",
            "Std Dev of MAE for Experiment 2:  369.23306832266877\n",
            "The 95% interval of Test MAE for Experiment 1 ranges between 2231.5634550288437 and 3777.542312095858\n"
          ]
        }
      ]
    },
    {
      "cell_type": "markdown",
      "metadata": {
        "id": "K3w70XGc2VRr"
      },
      "source": [
        "### Model evaluation and hyperparameter tuning has been carried out further on the selected features as part of experiment 2(a)"
      ]
    },
    {
      "cell_type": "code",
      "metadata": {
        "colab": {
          "base_uri": "https://localhost:8080/",
          "height": 452
        },
        "id": "aYOHJsI6f_Ay",
        "outputId": "c2ea6d43-ea68-4cf5-9513-49817e0b84b8"
      },
      "source": [
        "exp2_impdf= pd.DataFrame(exp2_bestmodel.feature_importances_,index=trainx_exp2.columns)\n",
        "exp2_impdf.columns=['feature_impotance']\n",
        "exp2_impdf\n",
        "\n",
        "plt.figure(figsize=(10,4))\n",
        "exp2_impdf.plot.bar()\n",
        "ax.set_title(\"Feature importances using MDI\")\n",
        "ax.set_ylabel(\"Mean decrease in impurity\")\n",
        "#fig.tight_layout()\n",
        "plt.show()"
      ],
      "execution_count": null,
      "outputs": [
        {
          "output_type": "display_data",
          "data": {
            "text/plain": [
              "<Figure size 720x288 with 0 Axes>"
            ]
          },
          "metadata": {}
        },
        {
          "output_type": "display_data",
          "data": {
            "image/png": "[encoded data removed]",
            "text/plain": [
              "<Figure size 432x288 with 1 Axes>"
            ]
          },
          "metadata": {
            "needs_background": "light"
          }
        }
      ]
    },
    {
      "cell_type": "code",
      "metadata": {
        "colab": {
          "base_uri": "https://localhost:8080/"
        },
        "id": "2-L2q2u7jE49",
        "outputId": "f9bf2caf-98ae-4a21-8222-545ac828f465"
      },
      "source": [
        "exp2_newfeatures= list(exp2_impdf[exp2_impdf['feature_impotance']>0.01].index)\n",
        "exp2_newfeatures"
      ],
      "execution_count": null,
      "outputs": [
        {
          "output_type": "execute_result",
          "data": {
            "text/plain": [
              "['Capped Incurred',\n",
              " 'TP_injury_fatality',\n",
              " 'TP_injury_traumatic',\n",
              " 'TP_type_other',\n",
              " 'Location_of_incident_Not Applicable',\n",
              " 'month_loss',\n",
              " 'TP_region_southe',\n",
              " 'Vehicle_mobile_N',\n",
              " 'TP_type_driver',\n",
              " 'day_loss',\n",
              " 'Location_of_incident_Main Road',\n",
              " 'Inception_to_loss']"
            ]
          },
          "metadata": {},
          "execution_count": 35
        }
      ]
    },
    {
      "cell_type": "code",
      "metadata": {
        "id": "Upi5kT_udPo4"
      },
      "source": [
        "trainx_exp2_rev= trainx_exp2[exp2_newfeatures]\n",
        "testx_exp2_rev= testx_exp2[exp2_newfeatures]"
      ],
      "execution_count": null,
      "outputs": []
    },
    {
      "cell_type": "code",
      "metadata": {
        "id": "aELDeCTuxuL0",
        "colab": {
          "base_uri": "https://localhost:8080/"
        },
        "outputId": "b3f8837e-736a-4ccd-f945-756cd0dc39ff"
      },
      "source": [
        "from sklearn.model_selection import KFold\n",
        "from sklearn.model_selection import GridSearchCV\n",
        "from sklearn.ensemble import RandomForestRegressor\n",
        "\n",
        "exp2_rev_grid = GridSearchCV(RandomForestRegressor(),\n",
        "                    param_grid  = {'max_depth': list(np.arange(1,50)),'max_features' : ['auto','sqrt', 'log2'], 'n_estimators': list(np.arange(1,30))},\n",
        "                    cv = KFold(n_splits=5, shuffle=True, random_state=1),\n",
        "                    scoring='neg_mean_absolute_error')\n",
        "\n",
        "exp2_rev_grid.fit(trainx_exp2_rev,train_y)"
      ],
      "execution_count": null,
      "outputs": [
        {
          "output_type": "execute_result",
          "data": {
            "text/plain": [
              "GridSearchCV(cv=KFold(n_splits=5, random_state=1, shuffle=True),\n",
              "             estimator=RandomForestRegressor(),\n",
              "             param_grid={'max_depth': [1, 2, 3, 4, 5, 6, 7, 8, 9, 10, 11, 12,\n",
              "                                       13, 14, 15, 16, 17, 18, 19, 20, 21, 22,\n",
              "                                       23, 24, 25, 26, 27, 28, 29, 30, ...],\n",
              "                         'max_features': ['auto', 'sqrt', 'log2'],\n",
              "                         'n_estimators': [1, 2, 3, 4, 5, 6, 7, 8, 9, 10, 11, 12,\n",
              "                                          13, 14, 15, 16, 17, 18, 19, 20, 21,\n",
              "                                          22, 23, 24, 25, 26, 27, 28, 29]},\n",
              "             scoring='neg_mean_absolute_error')"
            ]
          },
          "metadata": {},
          "execution_count": 38
        }
      ]
    },
    {
      "cell_type": "code",
      "metadata": {
        "colab": {
          "base_uri": "https://localhost:8080/"
        },
        "id": "4KvpkOoxvG-u",
        "outputId": "bc1c9265-9038-43ae-903d-e2b4b3247ec6"
      },
      "source": [
        "print(\"Best Score: \", exp2_rev_grid.best_score_)\n",
        "print(\"Best Parameters: \",exp2_rev_grid.best_params_)"
      ],
      "execution_count": null,
      "outputs": [
        {
          "output_type": "stream",
          "name": "stdout",
          "text": [
            "Best Score:  -3895.555055992034\n",
            "Best Parameters:  {'max_depth': 7, 'max_features': 'auto', 'n_estimators': 18}\n"
          ]
        }
      ]
    },
    {
      "cell_type": "code",
      "metadata": {
        "id": "691mRecN46QD"
      },
      "source": [
        "from sklearn.metrics import mean_absolute_error\n",
        "exp2rev_test_mae=[]\n",
        "exp2rev_model= RandomForestRegressor(max_depth=7, max_features= 'auto', n_estimators= 18)\n",
        "exp2rev_mod_list=[]\n",
        "for i in range(20):\n",
        "    exp2rev_model.fit(trainx_exp2_rev,train_y)\n",
        "    exp2rev_mod_list.append(exp2rev_model)\n",
        "    exp2rev_pred= exp2rev_model.predict(testx_exp2_rev)\n",
        "    exp2rev_test_mae.append(mean_absolute_error(test_y,exp2rev_pred))"
      ],
      "execution_count": null,
      "outputs": []
    },
    {
      "cell_type": "markdown",
      "metadata": {
        "id": "tdyPER9U2lIQ"
      },
      "source": [
        "#### **Results** Performance of best selected model from experiment 2(a) on Test dataset."
      ]
    },
    {
      "cell_type": "code",
      "metadata": {
        "colab": {
          "base_uri": "https://localhost:8080/",
          "height": 336
        },
        "id": "a7TZosS346NF",
        "outputId": "72d6d8b3-e501-4d40-cd1b-f15d4ecbc75a"
      },
      "source": [
        "exp2rev_test_mae= pd.DataFrame(exp2rev_test_mae)\n",
        "exp2rev_test_mae.columns= ['Test_MAE']\n",
        "\n",
        "plt.figure(figsize=(10,5))\n",
        "sns.barplot(x= exp2rev_test_mae.index,y='Test_MAE',data= exp2rev_test_mae, palette='crest')\n",
        "plt.title('Distribution of MAE scores on the Test Dataset for Experiment 2 Revised Dataset')\n",
        "plt.show()"
      ],
      "execution_count": null,
      "outputs": [
        {
          "output_type": "display_data",
          "data": {
            "image/png": "[encoded data removed]",
            "text/plain": [
              "<Figure size 720x360 with 1 Axes>"
            ]
          },
          "metadata": {
            "needs_background": "light"
          }
        }
      ]
    },
    {
      "cell_type": "markdown",
      "metadata": {
        "id": "24G3i88xmtL-"
      },
      "source": [
        "### 95% Confidence Interval of Test Predictions for Experiment 2(a)"
      ]
    },
    {
      "cell_type": "code",
      "metadata": {
        "colab": {
          "base_uri": "https://localhost:8080/"
        },
        "id": "VxaQqrlg46KK",
        "outputId": "b6f44988-c086-4b7a-90e6-e336ee9dca4e"
      },
      "source": [
        "print(\"Mean Test MAE for Experiment 2 Revised Dataset: \",exp2rev_test_mae['Test_MAE'].mean())\n",
        "print(\"Std Dev of MAE for Experiment 2 Revised Dataset: \",exp2rev_test_mae['Test_MAE'].std())\n",
        "\n",
        "ci= 2.0935*exp2rev_test_mae['Test_MAE'].std()\n",
        "\n",
        "lower_interval= exp2rev_test_mae['Test_MAE'].mean()-ci\n",
        "upper_interval= exp2rev_test_mae['Test_MAE'].mean()+ci\n",
        "\n",
        "print(\"The 95% interval of Test MAE for Experiment 2 revised dataset ranges between {} and {}\".format(lower_interval,upper_interval))"
      ],
      "execution_count": null,
      "outputs": [
        {
          "output_type": "stream",
          "name": "stdout",
          "text": [
            "Mean Test MAE for Experiment 2 Revised Dataset:  2719.563007783051\n",
            "Std Dev of MAE for Experiment 2 Revised Dataset:  237.02084455606706\n",
            "The 95% interval of Test MAE for Experiment 2 revised dataset ranges between 2223.3598697049247 and 3215.7661458611774\n"
          ]
        }
      ]
    },
    {
      "cell_type": "markdown",
      "metadata": {
        "id": "5-_unfHTEgRK"
      },
      "source": [
        "## **Results Summary**"
      ]
    },
    {
      "cell_type": "code",
      "metadata": {
        "id": "rCIXYTDw46Hc",
        "colab": {
          "base_uri": "https://localhost:8080/"
        },
        "outputId": "b628b47e-5cb2-47c0-d3d5-b9cfaefbda88"
      },
      "source": [
        "from prettytable import PrettyTable\n",
        "p=PrettyTable()\n",
        "\n",
        "p.field_names=[\"Experiment\",\"Description\", \"Model\",\"Test_MAE_95%CI_Lowerbound\",\"Test_MAE_95%CI_Upperbound\"]\n",
        "\n",
        "p.add_row([\"Exp-1\",\"Featrues Selected from RFE feature selction technique\",\"Random_Forest\", 1932.91,3617.57])\n",
        "p.add_row([\"Exp-1(a)\",\"Further Feature selection from Exp1\",\"Random_Forest\",1877.89, 3334.16])\n",
        "p.add_row([\"Exp-2\",\"Feature Selected from Lasso feature selction technique\",\"Random_Forest\",2231.56, 3777.54])\n",
        "p.add_row([\"Exp-2(a)\",\"Further Feature selection from Exp2\",\"Random_Forest\",2223.35, 3215.76])\n",
        "\n",
        "print(p)"
      ],
      "execution_count": 15,
      "outputs": [
        {
          "output_type": "stream",
          "name": "stdout",
          "text": [
            "+------------+--------------------------------------------------------+---------------+---------------------------+---------------------------+\n",
            "| Experiment |                      Description                       |     Model     | Test_MAE_95%CI_Lowerbound | Test_MAE_95%CI_Upperbound |\n",
            "+------------+--------------------------------------------------------+---------------+---------------------------+---------------------------+\n",
            "|   Exp-1    | Featrues Selected from RFE feature selction technique  | Random_Forest |          1932.91          |          3617.57          |\n",
            "|  Exp-1(a)  |          Further Feature selection from Exp1           | Random_Forest |          1877.89          |          3334.16          |\n",
            "|   Exp-2    | Feature Selected from Lasso feature selction technique | Random_Forest |          2231.56          |          3777.54          |\n",
            "|  Exp-2(a)  |          Further Feature selection from Exp2           | Random_Forest |          2223.35          |          3215.76          |\n",
            "+------------+--------------------------------------------------------+---------------+---------------------------+---------------------------+\n"
          ]
        }
      ]
    },
    {
      "cell_type": "code",
      "metadata": {
        "id": "xl1MXhVjHb5b"
      },
      "source": [
        ""
      ],
      "execution_count": null,
      "outputs": []
    }
  ]
}